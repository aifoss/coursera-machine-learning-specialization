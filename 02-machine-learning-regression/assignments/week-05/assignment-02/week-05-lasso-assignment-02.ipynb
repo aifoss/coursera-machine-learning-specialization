{
 "cells": [
  {
   "cell_type": "markdown",
   "metadata": {},
   "source": [
    "# Regression Week 5: LASSO (coordinate descent)"
   ]
  },
  {
   "cell_type": "markdown",
   "metadata": {},
   "source": [
    "In this notebook, you will implement your very own LASSO solver via coordinate descent. You will:\n",
    "* Write a function to normalize features\n",
    "* Implement coordinate descent for LASSO\n",
    "* Explore effects of L1 penalty"
   ]
  },
  {
   "cell_type": "markdown",
   "metadata": {},
   "source": [
    "# Fire up graphlab create"
   ]
  },
  {
   "cell_type": "markdown",
   "metadata": {},
   "source": [
    "Make sure you have the latest version of graphlab (>= 1.7)"
   ]
  },
  {
   "cell_type": "code",
   "execution_count": 161,
   "metadata": {
    "collapsed": false
   },
   "outputs": [],
   "source": [
    "import graphlab"
   ]
  },
  {
   "cell_type": "markdown",
   "metadata": {},
   "source": [
    "# Load in house sales data\n",
    "\n",
    "Dataset is from house sales in King County, the region where the city of Seattle, WA is located."
   ]
  },
  {
   "cell_type": "code",
   "execution_count": 162,
   "metadata": {
    "collapsed": false
   },
   "outputs": [],
   "source": [
    "sales = graphlab.SFrame('kc_house_data.gl/')\n",
    "# In the dataset, 'floors' was defined with type string, \n",
    "# so we'll convert them to int, before using it below\n",
    "sales['floors'] = sales['floors'].astype(int) "
   ]
  },
  {
   "cell_type": "markdown",
   "metadata": {},
   "source": [
    "If we want to do any \"feature engineering\" like creating new features or adjusting existing ones we should do this directly using the SFrames as seen in the first notebook of Week 2. For this notebook, however, we will work with the existing features."
   ]
  },
  {
   "cell_type": "markdown",
   "metadata": {},
   "source": [
    "# Import useful functions from previous notebook"
   ]
  },
  {
   "cell_type": "markdown",
   "metadata": {},
   "source": [
    "As in Week 2, we convert the SFrame into a 2D Numpy array. Copy and paste `get_num_data()` from the second notebook of Week 2."
   ]
  },
  {
   "cell_type": "code",
   "execution_count": 163,
   "metadata": {
    "collapsed": true
   },
   "outputs": [],
   "source": [
    "import numpy as np # note this allows us to refer to numpy as np instead "
   ]
  },
  {
   "cell_type": "code",
   "execution_count": 164,
   "metadata": {
    "collapsed": true
   },
   "outputs": [],
   "source": [
    "def get_numpy_data(data_sframe, features, output):\n",
    "    data_sframe['constant'] = 1\n",
    "    features = ['constant'] + features # this is how you combine two lists\n",
    "    \n",
    "    features_sframe = data_sframe[features]\n",
    "    feature_matrix = features_sframe.to_numpy()\n",
    "    \n",
    "    output_sarray = data_sframe[output]\n",
    "    output_array = output_sarray.to_numpy()\n",
    "    \n",
    "    return(feature_matrix, output_array)"
   ]
  },
  {
   "cell_type": "markdown",
   "metadata": {},
   "source": [
    "Also, copy and paste the `predict_output()` function to compute the predictions for an entire matrix of features given the matrix and the weights:"
   ]
  },
  {
   "cell_type": "code",
   "execution_count": 165,
   "metadata": {
    "collapsed": true
   },
   "outputs": [],
   "source": [
    "def predict_output(feature_matrix, weights):\n",
    "    predictions = np.dot(feature_matrix, weights)\n",
    "    return(predictions)"
   ]
  },
  {
   "cell_type": "markdown",
   "metadata": {},
   "source": [
    "# Normalize features\n",
    "In the house dataset, features vary wildly in their relative magnitude: `sqft_living` is very large overall compared to `bedrooms`, for instance. As a result, weight for `sqft_living` would be much smaller than weight for `bedrooms`. This is problematic because \"small\" weights are dropped first as `l1_penalty` goes up. \n",
    "\n",
    "To give equal considerations for all features, we need to **normalize features** as discussed in the lectures: we divide each feature by its 2-norm so that the transformed feature has norm 1.\n",
    "\n",
    "Let's see how we can do this normalization easily with Numpy: let us first consider a small matrix."
   ]
  },
  {
   "cell_type": "code",
   "execution_count": 166,
   "metadata": {
    "collapsed": false
   },
   "outputs": [
    {
     "name": "stdout",
     "output_type": "stream",
     "text": [
      "[[  3.   5.   8.]\n",
      " [  4.  12.  15.]]\n"
     ]
    }
   ],
   "source": [
    "X = np.array([[3.,5.,8.],[4.,12.,15.]])\n",
    "print X"
   ]
  },
  {
   "cell_type": "markdown",
   "metadata": {},
   "source": [
    "Numpy provides a shorthand for computing 2-norms of each column:"
   ]
  },
  {
   "cell_type": "code",
   "execution_count": 90,
   "metadata": {
    "collapsed": false
   },
   "outputs": [
    {
     "name": "stdout",
     "output_type": "stream",
     "text": [
      "[  5.  13.  17.]\n"
     ]
    }
   ],
   "source": [
    "norms = np.linalg.norm(X, axis=0) # gives [norm(X[:,0]), norm(X[:,1]), norm(X[:,2])]\n",
    "print norms"
   ]
  },
  {
   "cell_type": "markdown",
   "metadata": {},
   "source": [
    "To normalize, apply element-wise division:"
   ]
  },
  {
   "cell_type": "code",
   "execution_count": 91,
   "metadata": {
    "collapsed": false
   },
   "outputs": [
    {
     "name": "stdout",
     "output_type": "stream",
     "text": [
      "[[ 0.6         0.38461538  0.47058824]\n",
      " [ 0.8         0.92307692  0.88235294]]\n"
     ]
    }
   ],
   "source": [
    "print X / norms # gives [X[:,0]/norm(X[:,0]), X[:,1]/norm(X[:,1]), X[:,2]/norm(X[:,2])]"
   ]
  },
  {
   "cell_type": "markdown",
   "metadata": {},
   "source": [
    "Using the shorthand we just covered, write a short function called `normalize_features(feature_matrix)`, which normalizes columns of a given feature matrix. The function should return a pair `(normalized_features, norms)`, where the second item contains the norms of original features. As discussed in the lectures, we will use these norms to normalize the test data in the same way as we normalized the training data. "
   ]
  },
  {
   "cell_type": "code",
   "execution_count": 218,
   "metadata": {
    "collapsed": true
   },
   "outputs": [],
   "source": [
    "def normalize_features(feature_matrix):\n",
    "    norms = np.linalg.norm(feature_matrix, axis=0)\n",
    "    normalized_feature_matrix = feature_matrix / norms\n",
    "    return (normalized_feature_matrix, norms)"
   ]
  },
  {
   "cell_type": "markdown",
   "metadata": {},
   "source": [
    "To test the function, run the following:"
   ]
  },
  {
   "cell_type": "code",
   "execution_count": 219,
   "metadata": {
    "collapsed": false
   },
   "outputs": [
    {
     "name": "stdout",
     "output_type": "stream",
     "text": [
      "[[ 0.6  0.6  0.6]\n",
      " [ 0.8  0.8  0.8]]\n",
      "[  5.  10.  15.]\n"
     ]
    }
   ],
   "source": [
    "features, norms = normalize_features(np.array([[3.,6.,9.],[4.,8.,12.]]))\n",
    "print features\n",
    "# should print\n",
    "# [[ 0.6  0.6  0.6]\n",
    "#  [ 0.8  0.8  0.8]]\n",
    "print norms\n",
    "# should print\n",
    "# [5.  10.  15.]"
   ]
  },
  {
   "cell_type": "markdown",
   "metadata": {},
   "source": [
    "# Implementing Coordinate Descent with normalized features"
   ]
  },
  {
   "cell_type": "markdown",
   "metadata": {},
   "source": [
    "We seek to obtain a sparse set of weights by minimizing the LASSO cost function\n",
    "```\n",
    "SUM[ (prediction - output)^2 ] + lambda*( |w[1]| + ... + |w[k]|).\n",
    "```\n",
    "(By convention, we do not include `w[0]` in the L1 penalty term. We never want to push the intercept to zero.)\n",
    "\n",
    "The absolute value sign makes the cost function non-differentiable, so simple gradient descent is not viable (you would need to implement a method called subgradient descent). Instead, we will use **coordinate descent**: at each iteration, we will fix all weights but weight `i` and find the value of weight `i` that minimizes the objective. That is, we look for\n",
    "```\n",
    "argmin_{w[i]} [ SUM[ (prediction - output)^2 ] + lambda*( |w[1]| + ... + |w[k]|) ]\n",
    "```\n",
    "where all weights other than `w[i]` are held to be constant. We will optimize one `w[i]` at a time, circling through the weights multiple times.  \n",
    "  1. Pick a coordinate `i`\n",
    "  2. Compute `w[i]` that minimizes the cost function `SUM[ (prediction - output)^2 ] + lambda*( |w[1]| + ... + |w[k]|)`\n",
    "  3. Repeat Steps 1 and 2 for all coordinates, multiple times"
   ]
  },
  {
   "cell_type": "markdown",
   "metadata": {},
   "source": [
    "For this notebook, we use **cyclical coordinate descent with normalized features**, where we cycle through coordinates 0 to (d-1) in order, and assume the features were normalized as discussed above. The formula for optimizing each coordinate is as follows:\n",
    "```\n",
    "       ┌ (ro[i] + lambda/2)     if ro[i] < -lambda/2\n",
    "w[i] = ├ 0                      if -lambda/2 <= ro[i] <= lambda/2\n",
    "       └ (ro[i] - lambda/2)     if ro[i] > lambda/2\n",
    "```\n",
    "where\n",
    "```\n",
    "ro[i] = SUM[ [feature_i]*(output - prediction + w[i]*[feature_i]) ].\n",
    "```\n",
    "\n",
    "Note that we do not regularize the weight of the constant feature (intercept) `w[0]`, so, for this weight, the update is simply:\n",
    "```\n",
    "w[0] = ro[i]\n",
    "```"
   ]
  },
  {
   "cell_type": "markdown",
   "metadata": {},
   "source": [
    "## Effect of L1 penalty"
   ]
  },
  {
   "cell_type": "markdown",
   "metadata": {},
   "source": [
    "Let us consider a simple model with 2 features:"
   ]
  },
  {
   "cell_type": "code",
   "execution_count": 220,
   "metadata": {
    "collapsed": false
   },
   "outputs": [],
   "source": [
    "simple_features = ['sqft_living', 'bedrooms']\n",
    "my_output = 'price'\n",
    "(simple_feature_matrix, output) = get_numpy_data(sales, simple_features, my_output)"
   ]
  },
  {
   "cell_type": "markdown",
   "metadata": {},
   "source": [
    "Don't forget to normalize features:"
   ]
  },
  {
   "cell_type": "code",
   "execution_count": 221,
   "metadata": {
    "collapsed": true
   },
   "outputs": [],
   "source": [
    "(normalized_simple_feature_matrix, simple_norms) = normalize_features(simple_feature_matrix)"
   ]
  },
  {
   "cell_type": "markdown",
   "metadata": {},
   "source": [
    "We assign some random set of initial weights and inspect the values of `ro[i]`:"
   ]
  },
  {
   "cell_type": "code",
   "execution_count": 222,
   "metadata": {
    "collapsed": false
   },
   "outputs": [],
   "source": [
    "weights = np.array([1., 4., 1.])"
   ]
  },
  {
   "cell_type": "markdown",
   "metadata": {},
   "source": [
    "Use `predict_output()` to make predictions on this data."
   ]
  },
  {
   "cell_type": "code",
   "execution_count": 223,
   "metadata": {
    "collapsed": false
   },
   "outputs": [],
   "source": [
    "prediction = predict_output(normalized_simple_feature_matrix, weights)"
   ]
  },
  {
   "cell_type": "markdown",
   "metadata": {},
   "source": [
    "Compute the values of `ro[i]` for each feature in this simple model, using the formula given above, using the formula:\n",
    "```\n",
    "ro[i] = SUM[ [feature_i]*(output - prediction + w[i]*[feature_i]) ]\n",
    "```\n",
    "\n",
    "*Hint: You can get a Numpy vector for feature_i using:*\n",
    "```\n",
    "simple_feature_matrix[:,i]\n",
    "```"
   ]
  },
  {
   "cell_type": "code",
   "execution_count": 225,
   "metadata": {
    "collapsed": false
   },
   "outputs": [
    {
     "name": "stdout",
     "output_type": "stream",
     "text": [
      "ro 0 = 79400300.0349\n",
      "ro 1 = 87939470.773\n",
      "ro 2 = 80966698.676\n"
     ]
    }
   ],
   "source": [
    "def compute_ro(feature_i, output, prediction, weight_i):\n",
    "    return sum(feature_i * (output-prediction + (weight_i*feature_i)))\n",
    "\n",
    "num_features = len(normalized_simple_feature_matrix[0])\n",
    "\n",
    "ros = []\n",
    "\n",
    "for i in range(num_features):\n",
    "    feature_i = normalized_simple_feature_matrix[:,i]\n",
    "    weight_i = weights[i]\n",
    "    ro = compute_ro(feature_i, output, prediction, weight_i)\n",
    "    ros.append(ro)\n",
    "    \n",
    "for i in range(num_features):\n",
    "    print \"ro\", i, \"=\", ros[i]"
   ]
  },
  {
   "cell_type": "markdown",
   "metadata": {},
   "source": [
    "***QUIZ QUESTION: Recall that, whenever `ro[i]` falls between `-l1_penalty/2` and `l1_penalty/2`, the corresponding weight `w[i]` is set to zero. Now suppose we were to take one step of coordinate descent on either feature 1 or feature 2. What range of values of `l1_penalty` would not set `w[1]` zero, but would set `w[2]` to zero, if we were to take a step in that coordinate?*** "
   ]
  },
  {
   "cell_type": "code",
   "execution_count": 226,
   "metadata": {
    "collapsed": false
   },
   "outputs": [
    {
     "name": "stdout",
     "output_type": "stream",
     "text": [
      "164000000.0\n",
      "173000000.0\n"
     ]
    }
   ],
   "source": [
    "ro_1 = ros[1]\n",
    "ro_2 = ros[2]\n",
    "\n",
    "#-x/2 > ro_1 or ro_1 > x/2\n",
    "#-x/2 <= ro2 <= x/2\n",
    "\n",
    "l1_penalty_values = [1.4e8, 1.64e8, 1.73e8, 1.9e8, 2.3e8]\n",
    "a = 1.4e8\n",
    "b = 1.64e8\n",
    "c = 1.73e8\n",
    "d = 1.9e8\n",
    "e = 2.3e8\n",
    "\n",
    "def does_not_set_w1_to_zero_but_sets_w2_to_zero(l1_penalty, ro_1, ro_2):\n",
    "    w1_to_zero = ro_1 >= -l1_penalty/2 and ro_1 <= l1_penalty/2\n",
    "    w2_to_zero = ro_2 >= -l1_penalty/2 and ro_2 <= l1_penalty/2\n",
    "    return not w1_to_zero and w2_to_zero\n",
    "\n",
    "for i in range(len(l1_penalty_values)):\n",
    "    if does_not_set_w1_to_zero_but_sets_w2_to_zero(l1_penalty_values[i], ro_1, ro_2):\n",
    "        print l1_penalty_values[i]"
   ]
  },
  {
   "cell_type": "markdown",
   "metadata": {},
   "source": [
    "161933396 < x <= 175878940"
   ]
  },
  {
   "cell_type": "markdown",
   "metadata": {},
   "source": [
    "***QUIZ QUESTION: What range of values of `l1_penalty` would set both `w[1]` and `w[2]` to zero, if we were to take a step in that coordinate?*** "
   ]
  },
  {
   "cell_type": "code",
   "execution_count": 227,
   "metadata": {
    "collapsed": false
   },
   "outputs": [
    {
     "name": "stdout",
     "output_type": "stream",
     "text": [
      "190000000.0\n",
      "230000000.0\n"
     ]
    }
   ],
   "source": [
    "#-x/2 <= ro1 <= x/2\n",
    "#-x/2 <= ro2 <= x/2\n",
    "\n",
    "def sets_both_w1_and_w2_to_zero(l1_penalty, ro_1, ro_2):\n",
    "    w1_to_zero = ro_1 >= -l1_penalty/2 and ro_1 <= l1_penalty/2\n",
    "    w2_to_zero = ro_2 >= -l1_penalty/2 and ro_2 <= l1_penalty/2\n",
    "    return w1_to_zero and w2_to_zero\n",
    "\n",
    "for i in range(len(l1_penalty_values)):\n",
    "    if sets_both_w1_and_w2_to_zero(l1_penalty_values[i], ro_1, ro_2):\n",
    "        print l1_penalty_values[i]"
   ]
  },
  {
   "cell_type": "markdown",
   "metadata": {},
   "source": [
    "So we can say that `ro[i]` quantifies the significance of the i-th feature: the larger `ro[i]` is, the more likely it is for the i-th feature to be retained."
   ]
  },
  {
   "cell_type": "markdown",
   "metadata": {},
   "source": [
    "## Single Coordinate Descent Step"
   ]
  },
  {
   "cell_type": "markdown",
   "metadata": {},
   "source": [
    "Using the formula above, implement coordinate descent that minimizes the cost function over a single feature i. Note that the intercept (weight 0) is not regularized. The function should accept feature matrix, output, current weights, l1 penalty, and index of feature to optimize over. The function should return new weight for feature i."
   ]
  },
  {
   "cell_type": "code",
   "execution_count": 228,
   "metadata": {
    "collapsed": true
   },
   "outputs": [],
   "source": [
    "def lasso_coordinate_descent_step(i, feature_matrix, output, weights, l1_penalty):\n",
    "    # compute prediction\n",
    "    prediction = predict_output(feature_matrix, weights)\n",
    "    \n",
    "    # compute ro[i] = SUM[ [feature_i]*(output - prediction + weight[i]*[feature_i]) ]\n",
    "    feature_i = feature_matrix[:,i]\n",
    "    weight_i = weights[i]\n",
    "    ro_i = compute_ro(feature_i, output, prediction, weight_i)\n",
    "\n",
    "    if i == 0: # intercept -- do not regularize\n",
    "        new_weight_i = ro_i \n",
    "    elif ro_i < -l1_penalty/2.:\n",
    "        new_weight_i = ro_i + l1_penalty/2.\n",
    "    elif ro_i > l1_penalty/2.:\n",
    "        new_weight_i = ro_i - l1_penalty/2.\n",
    "    else:\n",
    "        new_weight_i = 0.\n",
    "    \n",
    "    return new_weight_i"
   ]
  },
  {
   "cell_type": "markdown",
   "metadata": {},
   "source": [
    "To test the function, run the following cell:"
   ]
  },
  {
   "cell_type": "code",
   "execution_count": 229,
   "metadata": {
    "collapsed": false
   },
   "outputs": [
    {
     "name": "stdout",
     "output_type": "stream",
     "text": [
      "0.425558846691\n"
     ]
    }
   ],
   "source": [
    "# should print 0.425558846691\n",
    "import math\n",
    "print lasso_coordinate_descent_step(1, np.array([[3./math.sqrt(13),1./math.sqrt(10)],[2./math.sqrt(13),3./math.sqrt(10)]]), \n",
    "                                   np.array([1., 1.]), np.array([1., 4.]), 0.1)"
   ]
  },
  {
   "cell_type": "markdown",
   "metadata": {
    "collapsed": true
   },
   "source": [
    "## Cyclical coordinate descent "
   ]
  },
  {
   "cell_type": "markdown",
   "metadata": {},
   "source": [
    "Now that we have a function that optimizes the cost function over a single coordinate, let us implement cyclical coordinate descent where we optimize coordinates 0, 1, ..., (d-1) in order and repeat.\n",
    "\n",
    "When do we know to stop? Each time we scan all the coordinates (features) once, we measure the change in weight for each coordinate. If no coordinate changes by more than a specified threshold, we stop."
   ]
  },
  {
   "cell_type": "markdown",
   "metadata": {},
   "source": [
    "For each iteration:\n",
    "1. As you loop over features in order and perform coordinate descent, measure how much each coordinate changes.\n",
    "2. After the loop, if the maximum change across all coordinates is falls below the tolerance, stop. Otherwise, go back to step 1.\n",
    "\n",
    "Return weights\n",
    "\n",
    "**IMPORTANT: when computing a new weight for coordinate i, make sure to incorporate the new weights for coordinates 0, 1, ..., i-1. One good way is to update your weights variable in-place. See following pseudocode for illustration.**\n",
    "```\n",
    "for i in range(len(weights)):\n",
    "    old_weights_i = weights[i] # remember old value of weight[i], as it will be overwritten\n",
    "    # the following line uses new values for weight[0], weight[1], ..., weight[i-1]\n",
    "    #     and old values for weight[i], ..., weight[d-1]\n",
    "    weights[i] = lasso_coordinate_descent_step(i, feature_matrix, output, weights, l1_penalty)\n",
    "    \n",
    "    # use old_weights_i to compute change in coordinate\n",
    "    ...\n",
    "```"
   ]
  },
  {
   "cell_type": "code",
   "execution_count": 230,
   "metadata": {
    "collapsed": false
   },
   "outputs": [],
   "source": [
    "def lasso_cyclical_coordinate_descent(feature_matrix, output, initial_weights, l1_penalty, tolerance):\n",
    "    weights = initial_weights\n",
    "    max_weight_change = tolerance\n",
    "    \n",
    "    while max_weight_change >= tolerance:\n",
    "        max_weight_change = 0\n",
    "        weight_changes = []\n",
    "        \n",
    "        for i in range(len(weights)):\n",
    "            old_weight_i = weights[i]\n",
    "            weights[i] = lasso_coordinate_descent_step(i, feature_matrix, output, weights, l1_penalty)\n",
    "            weight_change = abs(old_weight_i - weights[i])\n",
    "            \n",
    "            #print \"old weight = \", old_weight_i\n",
    "            #print \"new weight = \", weights[i]\n",
    "            #print \"weight change = \", weight_change\n",
    "            \n",
    "            weight_changes.append(weight_change)\n",
    "            \n",
    "        max_weight_change = max(weight_changes)\n",
    "        \n",
    "        print \"max weight change for iteration = \", max_weight_change         \n",
    "    \n",
    "    return weights"
   ]
  },
  {
   "cell_type": "markdown",
   "metadata": {},
   "source": [
    "Using the following parameters, learn the weights on the sales dataset. "
   ]
  },
  {
   "cell_type": "code",
   "execution_count": 231,
   "metadata": {
    "collapsed": false
   },
   "outputs": [],
   "source": [
    "simple_features = ['sqft_living', 'bedrooms']\n",
    "my_output = 'price'\n",
    "initial_weights = np.zeros(3)\n",
    "l1_penalty = 1e7\n",
    "tolerance = 1.0"
   ]
  },
  {
   "cell_type": "markdown",
   "metadata": {},
   "source": [
    "First create a normalized version of the feature matrix, `normalized_simple_feature_matrix`"
   ]
  },
  {
   "cell_type": "code",
   "execution_count": 232,
   "metadata": {
    "collapsed": false
   },
   "outputs": [],
   "source": [
    "(simple_feature_matrix, output) = get_numpy_data(sales, simple_features, my_output)\n",
    "(normalized_simple_feature_matrix, simple_norms) = normalize_features(simple_feature_matrix) # normalize features"
   ]
  },
  {
   "cell_type": "markdown",
   "metadata": {},
   "source": [
    "Then, run your implementation of LASSO coordinate descent:"
   ]
  },
  {
   "cell_type": "code",
   "execution_count": 233,
   "metadata": {
    "collapsed": false
   },
   "outputs": [
    {
     "name": "stdout",
     "output_type": "stream",
     "text": [
      "max weight change for iteration =  79400304.6581\n",
      "max weight change for iteration =  9138168.3665\n",
      "max weight change for iteration =  8194809.40937\n",
      "max weight change for iteration =  6598905.03827\n",
      "max weight change for iteration =  5522173.1943\n",
      "max weight change for iteration =  4621129.81031\n",
      "max weight change for iteration =  3867108.10625\n",
      "max weight change for iteration =  3236118.81061\n",
      "max weight change for iteration =  2708086.93955\n",
      "max weight change for iteration =  2266213.1094\n",
      "max weight change for iteration =  1896439.06265\n",
      "max weight change for iteration =  1587000.40319\n",
      "max weight change for iteration =  1328052.31095\n",
      "max weight change for iteration =  1111356.328\n",
      "max weight change for iteration =  930018.251242\n",
      "max weight change for iteration =  778268.79269\n",
      "max weight change for iteration =  651280.029038\n",
      "max weight change for iteration =  545011.800818\n",
      "max weight change for iteration =  456083.174344\n",
      "max weight change for iteration =  381664.876995\n",
      "max weight change for iteration =  319389.283634\n",
      "max weight change for iteration =  267275.090398\n",
      "max weight change for iteration =  223664.279321\n",
      "max weight change for iteration =  187169.368346\n",
      "max weight change for iteration =  156629.268444\n",
      "max weight change for iteration =  131072.343461\n",
      "max weight change for iteration =  109685.497424\n",
      "max weight change for iteration =  91788.3058113\n",
      "max weight change for iteration =  76811.3677895\n",
      "max weight change for iteration =  64278.1906643\n",
      "max weight change for iteration =  53790.0302251\n",
      "max weight change for iteration =  45013.2046615\n",
      "max weight change for iteration =  37668.4784414\n",
      "max weight change for iteration =  31522.1784091\n",
      "max weight change for iteration =  26378.7594499\n",
      "max weight change for iteration =  22074.5832049\n",
      "max weight change for iteration =  18472.7119038\n",
      "max weight change for iteration =  15458.5516703\n",
      "max weight change for iteration =  12936.2067127\n",
      "max weight change for iteration =  10825.4283905\n",
      "max weight change for iteration =  9059.06209136\n",
      "max weight change for iteration =  7580.9107045\n",
      "max weight change for iteration =  6343.94670663\n",
      "max weight change for iteration =  5308.81596889\n",
      "max weight change for iteration =  4442.58571232\n",
      "max weight change for iteration =  3717.69673751\n",
      "max weight change for iteration =  3111.08663527\n",
      "max weight change for iteration =  2603.45604615\n",
      "max weight change for iteration =  2178.65465657\n",
      "max weight change for iteration =  1823.16737067\n",
      "max weight change for iteration =  1525.68432574\n",
      "max weight change for iteration =  1276.74107022\n",
      "max weight change for iteration =  1068.41745321\n",
      "max weight change for iteration =  894.085637826\n",
      "max weight change for iteration =  748.199241284\n",
      "max weight change for iteration =  626.116874021\n",
      "max weight change for iteration =  523.954474069\n",
      "max weight change for iteration =  438.461734854\n",
      "max weight change for iteration =  366.918696988\n",
      "max weight change for iteration =  307.049212329\n",
      "max weight change for iteration =  256.948526956\n",
      "max weight change for iteration =  215.022683393\n",
      "max weight change for iteration =  179.937806476\n",
      "max weight change for iteration =  150.577667989\n",
      "max weight change for iteration =  126.008171935\n",
      "max weight change for iteration =  105.447637692\n",
      "max weight change for iteration =  88.241930183\n",
      "max weight change for iteration =  73.843647901\n",
      "max weight change for iteration =  61.794709526\n",
      "max weight change for iteration =  51.7117739618\n",
      "max weight change for iteration =  43.2740534991\n",
      "max weight change for iteration =  36.2131019011\n",
      "max weight change for iteration =  30.3042732552\n",
      "max weight change for iteration =  25.359577965\n",
      "max weight change for iteration =  21.2216995582\n",
      "max weight change for iteration =  17.7589916587\n",
      "max weight change for iteration =  14.8612884693\n",
      "max weight change for iteration =  12.4363974072\n",
      "max weight change for iteration =  10.4071723744\n",
      "max weight change for iteration =  8.7090517506\n",
      "max weight change for iteration =  7.28801103681\n",
      "max weight change for iteration =  6.0988387987\n",
      "max weight change for iteration =  5.10370242968\n",
      "max weight change for iteration =  4.27093991637\n",
      "max weight change for iteration =  3.57405826449\n",
      "max weight change for iteration =  2.99088549614\n",
      "max weight change for iteration =  2.50286720321\n",
      "max weight change for iteration =  2.09447904676\n",
      "max weight change for iteration =  1.75272624195\n",
      "max weight change for iteration =  1.46673727036\n",
      "max weight change for iteration =  1.22741236165\n",
      "max weight change for iteration =  1.02713750303\n",
      "max weight change for iteration =  0.859541006386\n"
     ]
    }
   ],
   "source": [
    "weights = lasso_cyclical_coordinate_descent(normalized_simple_feature_matrix, output,\n",
    "                                            initial_weights, l1_penalty, tolerance)"
   ]
  },
  {
   "cell_type": "markdown",
   "metadata": {},
   "source": [
    "***QUIZ QUESTION: What is the RSS of the learned model on the normalized dataset?***"
   ]
  },
  {
   "cell_type": "code",
   "execution_count": 234,
   "metadata": {
    "collapsed": false
   },
   "outputs": [
    {
     "name": "stdout",
     "output_type": "stream",
     "text": [
      "1.63049248148e+15\n"
     ]
    }
   ],
   "source": [
    "prediction = predict_output(normalized_simple_feature_matrix, weights)\n",
    "errors = prediction - output\n",
    "rss = sum(errors * errors)\n",
    "\n",
    "print rss"
   ]
  },
  {
   "cell_type": "markdown",
   "metadata": {},
   "source": [
    "***QUIZ QUESTION: Which features had weight zero at convergence?***"
   ]
  },
  {
   "cell_type": "code",
   "execution_count": 236,
   "metadata": {
    "collapsed": false
   },
   "outputs": [
    {
     "name": "stdout",
     "output_type": "stream",
     "text": [
      "bedrooms\n"
     ]
    }
   ],
   "source": [
    "for i in range(len(weights)):\n",
    "    if weights[i] == 0.0:\n",
    "        print simple_features[i-1]"
   ]
  },
  {
   "cell_type": "markdown",
   "metadata": {},
   "source": [
    "# Evaluating LASSO fit with more features"
   ]
  },
  {
   "cell_type": "markdown",
   "metadata": {},
   "source": [
    "Let us split the sales dataset into training and test sets."
   ]
  },
  {
   "cell_type": "code",
   "execution_count": 237,
   "metadata": {
    "collapsed": true
   },
   "outputs": [],
   "source": [
    "train_data,test_data = sales.random_split(.8,seed=0)"
   ]
  },
  {
   "cell_type": "markdown",
   "metadata": {},
   "source": [
    "Let us consider the following set of features."
   ]
  },
  {
   "cell_type": "code",
   "execution_count": 238,
   "metadata": {
    "collapsed": true
   },
   "outputs": [],
   "source": [
    "all_features = ['bedrooms',\n",
    "                'bathrooms',\n",
    "                'sqft_living',\n",
    "                'sqft_lot',\n",
    "                'floors',\n",
    "                'waterfront', \n",
    "                'view', \n",
    "                'condition', \n",
    "                'grade',\n",
    "                'sqft_above',\n",
    "                'sqft_basement',\n",
    "                'yr_built', \n",
    "                'yr_renovated']"
   ]
  },
  {
   "cell_type": "markdown",
   "metadata": {},
   "source": [
    "First, create a normalized feature matrix from the TRAINING data with these features.  (Make you store the norms for the normalization, since we'll use them later)"
   ]
  },
  {
   "cell_type": "code",
   "execution_count": 239,
   "metadata": {
    "collapsed": false
   },
   "outputs": [],
   "source": [
    "(all_feature_matrix, output) = get_numpy_data(train_data, all_features, my_output)\n",
    "(normalized_all_feature_matrix, all_norms) = normalize_features(all_feature_matrix)"
   ]
  },
  {
   "cell_type": "markdown",
   "metadata": {},
   "source": [
    "First, learn the weights with `l1_penalty=1e7`, on the training data. Initialize weights to all zeros, and set the `tolerance=1`.  Call resulting weights `weights1e7`, you will need them later."
   ]
  },
  {
   "cell_type": "code",
   "execution_count": 268,
   "metadata": {
    "collapsed": false
   },
   "outputs": [
    {
     "name": "stdout",
     "output_type": "stream",
     "text": [
      "max weight change for iteration =  71114625.7528\n",
      "max weight change for iteration =  5024356.36869\n",
      "max weight change for iteration =  5012324.91395\n",
      "max weight change for iteration =  5000676.42086\n",
      "max weight change for iteration =  4991243.17314\n",
      "max weight change for iteration =  4984361.34335\n",
      "max weight change for iteration =  4979504.92921\n",
      "max weight change for iteration =  4973806.56526\n",
      "max weight change for iteration =  2879222.99938\n",
      "max weight change for iteration =  2706150.76622\n",
      "max weight change for iteration =  2532295.64864\n",
      "max weight change for iteration =  2368316.57782\n",
      "max weight change for iteration =  2213124.35067\n",
      "max weight change for iteration =  1552443.60013\n",
      "max weight change for iteration =  507838.033159\n",
      "max weight change for iteration =  438814.370591\n",
      "max weight change for iteration =  371479.622608\n",
      "max weight change for iteration =  313415.105581\n",
      "max weight change for iteration =  264244.832139\n",
      "max weight change for iteration =  222753.8608\n",
      "max weight change for iteration =  187770.667306\n",
      "max weight change for iteration =  158280.093357\n",
      "max weight change for iteration =  133420.901606\n",
      "max weight change for iteration =  112465.988296\n",
      "max weight change for iteration =  94802.2134517\n",
      "max weight change for iteration =  79912.6874507\n",
      "max weight change for iteration =  67361.6926196\n",
      "max weight change for iteration =  56781.9424917\n",
      "max weight change for iteration =  47863.8357519\n",
      "max weight change for iteration =  40346.3966198\n",
      "max weight change for iteration =  34009.6378516\n",
      "max weight change for iteration =  28668.1231467\n",
      "max weight change for iteration =  24165.540613\n",
      "max weight change for iteration =  20370.1285269\n",
      "max weight change for iteration =  17170.8195086\n",
      "max weight change for iteration =  14473.9902948\n",
      "max weight change for iteration =  12200.721984\n",
      "max weight change for iteration =  10284.4905858\n",
      "max weight change for iteration =  8669.22029226\n",
      "max weight change for iteration =  7307.64249876\n",
      "max weight change for iteration =  6159.91255131\n",
      "max weight change for iteration =  5192.44375229\n",
      "max weight change for iteration =  4376.92449275\n",
      "max weight change for iteration =  3689.48975372\n",
      "max weight change for iteration =  3110.0227253\n",
      "max weight change for iteration =  2621.56612379\n",
      "max weight change for iteration =  2209.82595591\n",
      "max weight change for iteration =  1862.75322656\n",
      "max weight change for iteration =  1570.19134186\n",
      "max weight change for iteration =  1323.57889069\n",
      "max weight change for iteration =  1115.69910869\n",
      "max weight change for iteration =  940.468686525\n",
      "max weight change for iteration =  792.759753313\n",
      "max weight change for iteration =  668.249816127\n",
      "max weight change for iteration =  563.295266699\n",
      "max weight change for iteration =  474.824758362\n",
      "max weight change for iteration =  400.249326281\n",
      "max weight change for iteration =  337.386626657\n",
      "max weight change for iteration =  284.397069555\n",
      "max weight change for iteration =  239.729992516\n",
      "max weight change for iteration =  202.078274794\n",
      "max weight change for iteration =  170.340092685\n",
      "max weight change for iteration =  143.586673424\n",
      "max weight change for iteration =  121.035114866\n",
      "max weight change for iteration =  102.025478777\n",
      "max weight change for iteration =  86.0014741011\n",
      "max weight change for iteration =  72.494181253\n",
      "max weight change for iteration =  61.1083279289\n",
      "max weight change for iteration =  51.5107243657\n",
      "max weight change for iteration =  43.4205089137\n",
      "max weight change for iteration =  36.6009336673\n",
      "max weight change for iteration =  30.8524328545\n",
      "max weight change for iteration =  26.0067854188\n",
      "max weight change for iteration =  21.9221893623\n",
      "max weight change for iteration =  18.4791155905\n",
      "max weight change for iteration =  15.5768073164\n",
      "max weight change for iteration =  13.1303316727\n",
      "max weight change for iteration =  11.0680963434\n",
      "max weight change for iteration =  9.32975419611\n",
      "max weight change for iteration =  7.86443347111\n",
      "max weight change for iteration =  6.62925465405\n",
      "max weight change for iteration =  5.58807149157\n",
      "max weight change for iteration =  4.71041546017\n",
      "max weight change for iteration =  3.97060324252\n",
      "max weight change for iteration =  3.34698478132\n",
      "max weight change for iteration =  2.82131080329\n",
      "max weight change for iteration =  2.37819923088\n",
      "max weight change for iteration =  2.0046817027\n",
      "max weight change for iteration =  1.68982895091\n",
      "max weight change for iteration =  1.42442622781\n",
      "max weight change for iteration =  1.20070753247\n",
      "max weight change for iteration =  1.01212578267\n",
      "max weight change for iteration =  0.853162374347\n"
     ]
    }
   ],
   "source": [
    "initial_weights = np.zeros(len(all_features)+1)\n",
    "l1_penalty = 1e7\n",
    "tolerance = 1.0\n",
    "\n",
    "weights1e7 = lasso_cyclical_coordinate_descent(normalized_all_feature_matrix, \n",
    "                                               output,\n",
    "                                               initial_weights,\n",
    "                                               l1_penalty,\n",
    "                                               tolerance)"
   ]
  },
  {
   "cell_type": "markdown",
   "metadata": {},
   "source": [
    "***QUIZ QUESTION: What features had non-zero weight in this case?***"
   ]
  },
  {
   "cell_type": "code",
   "execution_count": 269,
   "metadata": {
    "collapsed": false
   },
   "outputs": [
    {
     "name": "stdout",
     "output_type": "stream",
     "text": [
      "constant: 24429600.6093\n",
      "bedrooms : 0.0\n",
      "bathrooms : 0.0\n",
      "sqft_living : 48389174.3523\n",
      "sqft_lot : 0.0\n",
      "floors : 0.0\n",
      "waterfront : 3317511.16272\n",
      "view : 7329961.9849\n",
      "condition : 0.0\n",
      "grade : 0.0\n",
      "sqft_above : 0.0\n",
      "sqft_basement : 0.0\n",
      "yr_built : 0.0\n",
      "yr_renovated : 0.0\n",
      "\n",
      "constant\n",
      "sqft_living\n",
      "waterfront\n",
      "view\n"
     ]
    }
   ],
   "source": [
    "for i in range(len(weights1e7)):\n",
    "    if i == 0:\n",
    "        print \"constant:\", weights1e7[i]\n",
    "    else:\n",
    "        print all_features[i-1], \":\", weights1e7[i]\n",
    "print ''\n",
    "\n",
    "for i in range(len(weights1e7)):\n",
    "    if weights1e7[i] != 0.0:\n",
    "        if i == 0:\n",
    "            print \"constant\"\n",
    "        else:\n",
    "            print all_features[i-1]"
   ]
  },
  {
   "cell_type": "markdown",
   "metadata": {
    "collapsed": true
   },
   "source": [
    "Next, learn the weights with `l1_penalty=1e8`, on the training data. Initialize weights to all zeros, and set the `tolerance=1`.  Call resulting weights `weights1e8`, you will need them later."
   ]
  },
  {
   "cell_type": "code",
   "execution_count": 270,
   "metadata": {
    "collapsed": false
   },
   "outputs": [
    {
     "name": "stdout",
     "output_type": "stream",
     "text": [
      "max weight change for iteration =  71114625.7528\n",
      "max weight change for iteration =  0.0\n"
     ]
    }
   ],
   "source": [
    "my_output = 'price'\n",
    "initial_weights = np.zeros(len(all_features)+1)\n",
    "l1_penalty = 1e8\n",
    "tolerance = 1.0\n",
    "\n",
    "weights1e8 = lasso_cyclical_coordinate_descent(normalized_all_feature_matrix, \n",
    "                                               output,\n",
    "                                               initial_weights,\n",
    "                                               l1_penalty,\n",
    "                                               tolerance)"
   ]
  },
  {
   "cell_type": "markdown",
   "metadata": {},
   "source": [
    "***QUIZ QUESTION: What features had non-zero weight in this case?***"
   ]
  },
  {
   "cell_type": "code",
   "execution_count": 271,
   "metadata": {
    "collapsed": false
   },
   "outputs": [
    {
     "name": "stdout",
     "output_type": "stream",
     "text": [
      "constant: 71114625.7528\n",
      "bedrooms : 0.0\n",
      "bathrooms : 0.0\n",
      "sqft_living : 0.0\n",
      "sqft_lot : 0.0\n",
      "floors : 0.0\n",
      "waterfront : 0.0\n",
      "view : 0.0\n",
      "condition : 0.0\n",
      "grade : 0.0\n",
      "sqft_above : 0.0\n",
      "sqft_basement : 0.0\n",
      "yr_built : 0.0\n",
      "yr_renovated : 0.0\n",
      "\n",
      "constant\n"
     ]
    }
   ],
   "source": [
    "for i in range(len(weights1e8)):\n",
    "    if i == 0:\n",
    "        print \"constant:\", weights1e8[i]\n",
    "    else:\n",
    "        print all_features[i-1], \":\", weights1e8[i]\n",
    "print ''\n",
    "\n",
    "for i in range(len(weights1e8)):\n",
    "    if weights1e8[i] != 0.0:\n",
    "        if i == 0:\n",
    "            print \"constant\"\n",
    "        else:\n",
    "            print all_features[i-1]"
   ]
  },
  {
   "cell_type": "markdown",
   "metadata": {},
   "source": [
    "Finally, learn the weights with `l1_penalty=1e4`, on the training data. Initialize weights to all zeros, and set the `tolerance=5e5`.  Call resulting weights `weights1e4`, you will need them later.  (This case will take quite a bit longer to converge than the others above.)"
   ]
  },
  {
   "cell_type": "code",
   "execution_count": 272,
   "metadata": {
    "collapsed": false
   },
   "outputs": [
    {
     "name": "stdout",
     "output_type": "stream",
     "text": [
      "max weight change for iteration =  71114625.7528\n",
      "max weight change for iteration =  8464015.94738\n",
      "max weight change for iteration =  6818451.35869\n",
      "max weight change for iteration =  5570165.21901\n",
      "max weight change for iteration =  4559838.46759\n",
      "max weight change for iteration =  3732056.69715\n",
      "max weight change for iteration =  3053211.61353\n",
      "max weight change for iteration =  2497517.43558\n",
      "max weight change for iteration =  2043868.97325\n",
      "max weight change for iteration =  1674717.70906\n",
      "max weight change for iteration =  1375420.75692\n",
      "max weight change for iteration =  1296621.8143\n",
      "max weight change for iteration =  1257340.9361\n",
      "max weight change for iteration =  1228271.24819\n",
      "max weight change for iteration =  1206854.36471\n",
      "max weight change for iteration =  1191059.40598\n",
      "max weight change for iteration =  1179030.77018\n",
      "max weight change for iteration =  1169777.43345\n",
      "max weight change for iteration =  1162340.67589\n",
      "max weight change for iteration =  1155980.52901\n",
      "max weight change for iteration =  1150139.67966\n",
      "max weight change for iteration =  1144406.32752\n",
      "max weight change for iteration =  1138483.91805\n",
      "max weight change for iteration =  1132166.57169\n",
      "max weight change for iteration =  1125319.16778\n",
      "max weight change for iteration =  1117861.24888\n",
      "max weight change for iteration =  1109754.06282\n",
      "max weight change for iteration =  1100990.17907\n",
      "max weight change for iteration =  1091585.21244\n",
      "max weight change for iteration =  1081571.26761\n",
      "max weight change for iteration =  1070991.78405\n",
      "max weight change for iteration =  1059897.51701\n",
      "max weight change for iteration =  1048343.43631\n",
      "max weight change for iteration =  1036386.3636\n",
      "max weight change for iteration =  1024083.20068\n",
      "max weight change for iteration =  1011489.62847\n",
      "max weight change for iteration =  998659.178392\n",
      "max weight change for iteration =  985642.596017\n",
      "max weight change for iteration =  972487.432403\n",
      "max weight change for iteration =  959237.810727\n",
      "max weight change for iteration =  945934.326266\n",
      "max weight change for iteration =  932614.046117\n",
      "max weight change for iteration =  919310.581988\n",
      "max weight change for iteration =  906054.214956\n",
      "max weight change for iteration =  892872.055697\n",
      "max weight change for iteration =  879109.302243\n",
      "max weight change for iteration =  866038.266742\n",
      "max weight change for iteration =  853191.449429\n",
      "max weight change for iteration =  840521.781012\n",
      "max weight change for iteration =  828028.403962\n",
      "max weight change for iteration =  815717.920819\n",
      "max weight change for iteration =  803598.206379\n",
      "max weight change for iteration =  791676.769693\n",
      "max weight change for iteration =  779960.222855\n",
      "max weight change for iteration =  768454.139376\n",
      "max weight change for iteration =  757163.05916\n",
      "max weight change for iteration =  746090.546302\n",
      "max weight change for iteration =  735239.263812\n",
      "max weight change for iteration =  724611.051693\n",
      "max weight change for iteration =  714002.910141\n",
      "max weight change for iteration =  703393.002342\n",
      "max weight change for iteration =  693038.299304\n",
      "max weight change for iteration =  682960.589207\n",
      "max weight change for iteration =  673155.135299\n",
      "max weight change for iteration =  663513.600594\n",
      "max weight change for iteration =  654148.681361\n",
      "max weight change for iteration =  645045.446051\n",
      "max weight change for iteration =  636191.878813\n",
      "max weight change for iteration =  627577.229773\n",
      "max weight change for iteration =  619191.96692\n",
      "max weight change for iteration =  611027.657019\n",
      "max weight change for iteration =  603076.796131\n",
      "max weight change for iteration =  595332.640574\n",
      "max weight change for iteration =  587789.058274\n",
      "max weight change for iteration =  580440.404721\n",
      "max weight change for iteration =  573281.422008\n",
      "max weight change for iteration =  566307.157817\n",
      "max weight change for iteration =  559512.901092\n",
      "max weight change for iteration =  552894.131447\n",
      "max weight change for iteration =  546446.479774\n",
      "max weight change for iteration =  540165.697951\n",
      "max weight change for iteration =  534047.635851\n",
      "max weight change for iteration =  528088.224233\n",
      "max weight change for iteration =  522283.462294\n",
      "max weight change for iteration =  516629.408908\n",
      "max weight change for iteration =  511122.176757\n",
      "max weight change for iteration =  505757.928683\n",
      "max weight change for iteration =  500532.875758\n",
      "max weight change for iteration =  495443.276635\n"
     ]
    }
   ],
   "source": [
    "my_output = 'price'\n",
    "initial_weights = np.zeros(len(all_features)+1)\n",
    "l1_penalty = 1e4\n",
    "tolerance = 5e5\n",
    "\n",
    "weights1e4 = lasso_cyclical_coordinate_descent(normalized_all_feature_matrix, \n",
    "                                               output,\n",
    "                                               initial_weights,\n",
    "                                               l1_penalty,\n",
    "                                               tolerance)"
   ]
  },
  {
   "cell_type": "markdown",
   "metadata": {},
   "source": [
    "***QUIZ QUESTION: What features had non-zero weight in this case?***"
   ]
  },
  {
   "cell_type": "code",
   "execution_count": 254,
   "metadata": {
    "collapsed": false
   },
   "outputs": [
    {
     "name": "stdout",
     "output_type": "stream",
     "text": [
      "constant: 77779073.9127\n",
      "bedrooms : -22884012.2502\n",
      "bathrooms : 15348487.0809\n",
      "sqft_living : 92166869.6988\n",
      "sqft_lot : -2139328.08243\n",
      "floors : -8818455.54409\n",
      "waterfront : 6494209.73311\n",
      "view : 7065162.05053\n",
      "condition : 4119079.21007\n",
      "grade : 18436483.5262\n",
      "sqft_above : -14566678.5451\n",
      "sqft_basement : -5528348.75179\n",
      "yr_built : -83591746.2073\n",
      "yr_renovated : 2784276.46013\n",
      "\n",
      "constant\n",
      "bedrooms\n",
      "bathrooms\n",
      "sqft_living\n",
      "sqft_lot\n",
      "floors\n",
      "waterfront\n",
      "view\n",
      "condition\n",
      "grade\n",
      "sqft_above\n",
      "sqft_basement\n",
      "yr_built\n",
      "yr_renovated\n"
     ]
    }
   ],
   "source": [
    "for i in range(len(weights1e4)):\n",
    "    if i == 0:\n",
    "        print \"constant:\", weights1e4[i]\n",
    "    else:\n",
    "        print all_features[i-1], \":\", weights1e4[i]\n",
    "print ''\n",
    "\n",
    "for i in range(len(weights1e4)):\n",
    "    if weights1e4[i] != 0.0:\n",
    "        if i == 0:\n",
    "            print \"constant\"\n",
    "        else:\n",
    "            print all_features[i-1]"
   ]
  },
  {
   "cell_type": "markdown",
   "metadata": {},
   "source": [
    "## Rescaling learned weights"
   ]
  },
  {
   "cell_type": "markdown",
   "metadata": {},
   "source": [
    "Recall that we normalized our feature matrix, before learning the weights.  To use these weights on a test set, we must normalize the test data in the same way.\n",
    "\n",
    "Alternatively, we can rescale the learned weights to include the normalization, so we never have to worry about normalizing the test data: \n",
    "\n",
    "In this case, we must scale the resulting weights so that we can make predictions with *original* features:\n",
    " 1. Store the norms of the original features to a vector called `norms`:\n",
    "```\n",
    "features, norms = normalize_features(features)\n",
    "```\n",
    " 2. Run Lasso on the normalized features and obtain a `weights` vector\n",
    " 3. Compute the weights for the original features by performing element-wise division, i.e.\n",
    "```\n",
    "weights_normalized = weights / norms\n",
    "```\n",
    "Now, we can apply `weights_normalized` to the test data, without normalizing it!"
   ]
  },
  {
   "cell_type": "markdown",
   "metadata": {},
   "source": [
    "Create a normalized version of each of the weights learned above. (`weights1e4`, `weights1e7`, `weights1e8`)."
   ]
  },
  {
   "cell_type": "code",
   "execution_count": 265,
   "metadata": {
    "collapsed": false
   },
   "outputs": [],
   "source": [
    "normalized_weights1e7 = weights1e7 / all_norms\n",
    "normalized_weights1e8 = weights1e8 / all_norms\n",
    "normalized_weights1e4 = weights1e4 / all_norms"
   ]
  },
  {
   "cell_type": "markdown",
   "metadata": {},
   "source": [
    "To check your results, if you call `normalized_weights1e7` the normalized version of `weights1e7`, then:\n",
    "```\n",
    "print normalized_weights1e7[3]\n",
    "```\n",
    "should return 161.31745624837794."
   ]
  },
  {
   "cell_type": "code",
   "execution_count": 266,
   "metadata": {
    "collapsed": false
   },
   "outputs": [
    {
     "name": "stdout",
     "output_type": "stream",
     "text": [
      "161.317456248\n"
     ]
    }
   ],
   "source": [
    "print normalized_weights1e7[3]"
   ]
  },
  {
   "cell_type": "markdown",
   "metadata": {},
   "source": [
    "## Evaluating each of the learned models on the test data"
   ]
  },
  {
   "cell_type": "markdown",
   "metadata": {},
   "source": [
    "Let's now evaluate the three models on the test data:"
   ]
  },
  {
   "cell_type": "code",
   "execution_count": 259,
   "metadata": {
    "collapsed": true
   },
   "outputs": [],
   "source": [
    "(test_feature_matrix, test_output) = get_numpy_data(test_data, all_features, my_output)"
   ]
  },
  {
   "cell_type": "markdown",
   "metadata": {},
   "source": [
    "Compute the RSS of each of the three normalized weights on the (unnormalized) `test_feature_matrix`:"
   ]
  },
  {
   "cell_type": "code",
   "execution_count": 261,
   "metadata": {
    "collapsed": false
   },
   "outputs": [
    {
     "name": "stdout",
     "output_type": "stream",
     "text": [
      "2.75962079909e+14\n"
     ]
    }
   ],
   "source": [
    "prediction = predict_output(test_feature_matrix, normalized_weights1e7)\n",
    "errors = prediction - test_output\n",
    "weights1e7_rss = sum(errors * errors)\n",
    "\n",
    "print weights1e7_rss"
   ]
  },
  {
   "cell_type": "code",
   "execution_count": 262,
   "metadata": {
    "collapsed": false
   },
   "outputs": [
    {
     "name": "stdout",
     "output_type": "stream",
     "text": [
      "5.37166150034e+14\n"
     ]
    }
   ],
   "source": [
    "prediction = predict_output(test_feature_matrix, normalized_weights1e8)\n",
    "errors = prediction - test_output\n",
    "weights1e8_rss = sum(errors * errors)\n",
    "\n",
    "print weights1e8_rss"
   ]
  },
  {
   "cell_type": "code",
   "execution_count": 263,
   "metadata": {
    "collapsed": false
   },
   "outputs": [
    {
     "name": "stdout",
     "output_type": "stream",
     "text": [
      "2.2778100476e+14\n"
     ]
    }
   ],
   "source": [
    "prediction = predict_output(test_feature_matrix, normalized_weights1e4)\n",
    "errors = prediction - test_output\n",
    "weights1e4_rss = sum(errors * errors)\n",
    "\n",
    "print weights1e4_rss"
   ]
  },
  {
   "cell_type": "markdown",
   "metadata": {},
   "source": [
    "***QUIZ QUESTION: Which model performed best on the test data?***"
   ]
  },
  {
   "cell_type": "code",
   "execution_count": 264,
   "metadata": {
    "collapsed": false
   },
   "outputs": [
    {
     "name": "stdout",
     "output_type": "stream",
     "text": [
      "Model trained with 1e4\n"
     ]
    }
   ],
   "source": [
    "rsss = [weights1e7_rss, weights1e8_rss, weights1e4_rss]\n",
    "min_rss = min(rsss)\n",
    "if min_rss == weights1e7_rss:\n",
    "    print \"Model trained with 1e7\"\n",
    "elif min_rss == weights1e8_rss:\n",
    "    print \"Model trained with 1e8\"\n",
    "else:\n",
    "    print \"Model trained with 1e4\""
   ]
  }
 ],
 "metadata": {
  "kernelspec": {
   "display_name": "Python 2",
   "language": "python",
   "name": "python2"
  },
  "language_info": {
   "codemirror_mode": {
    "name": "ipython",
    "version": 2
   },
   "file_extension": ".py",
   "mimetype": "text/x-python",
   "name": "python",
   "nbconvert_exporter": "python",
   "pygments_lexer": "ipython2",
   "version": "2.7.10"
  }
 },
 "nbformat": 4,
 "nbformat_minor": 0
}
