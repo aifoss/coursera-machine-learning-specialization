{
 "cells": [
  {
   "cell_type": "markdown",
   "metadata": {},
   "source": [
    "# Regression Week 5: Feature Selection and LASSO (Interpretation)"
   ]
  },
  {
   "cell_type": "markdown",
   "metadata": {},
   "source": [
    "In this notebook, you will use LASSO to select features, building on a pre-implemented solver for LASSO (using GraphLab Create, though you can use other solvers). You will:\n",
    "* Run LASSO with different L1 penalties.\n",
    "* Choose best L1 penalty using a validation set.\n",
    "* Choose best L1 penalty using a validation set, with additional constraint on the size of subset.\n",
    "\n",
    "In the second notebook, you will implement your own LASSO solver, using coordinate descent. "
   ]
  },
  {
   "cell_type": "markdown",
   "metadata": {},
   "source": [
    "# Fire up graphlab create"
   ]
  },
  {
   "cell_type": "code",
   "execution_count": 61,
   "metadata": {
    "collapsed": true
   },
   "outputs": [],
   "source": [
    "import graphlab"
   ]
  },
  {
   "cell_type": "markdown",
   "metadata": {},
   "source": [
    "# Load in house sales data\n",
    "\n",
    "Dataset is from house sales in King County, the region where the city of Seattle, WA is located."
   ]
  },
  {
   "cell_type": "code",
   "execution_count": 62,
   "metadata": {
    "collapsed": false,
    "scrolled": true
   },
   "outputs": [],
   "source": [
    "sales = graphlab.SFrame('kc_house_data.gl/')"
   ]
  },
  {
   "cell_type": "markdown",
   "metadata": {},
   "source": [
    "# Create new features"
   ]
  },
  {
   "cell_type": "markdown",
   "metadata": {},
   "source": [
    "As in Week 2, we consider features that are some transformations of inputs."
   ]
  },
  {
   "cell_type": "code",
   "execution_count": 63,
   "metadata": {
    "collapsed": true
   },
   "outputs": [],
   "source": [
    "from math import log, sqrt\n",
    "sales['sqft_living_sqrt'] = sales['sqft_living'].apply(sqrt)\n",
    "sales['sqft_lot_sqrt'] = sales['sqft_lot'].apply(sqrt)\n",
    "sales['bedrooms_square'] = sales['bedrooms']*sales['bedrooms']\n",
    "\n",
    "# In the dataset, 'floors' was defined with type string, \n",
    "# so we'll convert them to float, before creating a new feature.\n",
    "sales['floors'] = sales['floors'].astype(float) \n",
    "sales['floors_square'] = sales['floors']*sales['floors']"
   ]
  },
  {
   "cell_type": "markdown",
   "metadata": {},
   "source": [
    "* Squaring bedrooms will increase the separation between not many bedrooms (e.g. 1) and lots of bedrooms (e.g. 4) since 1^2 = 1 but 4^2 = 16. Consequently this variable will mostly affect houses with many bedrooms.\n",
    "* On the other hand, taking square root of sqft_living will decrease the separation between big house and small house. The owner may not be exactly twice as happy for getting a house that is twice as big."
   ]
  },
  {
   "cell_type": "markdown",
   "metadata": {},
   "source": [
    "# Learn regression weights with L1 penalty"
   ]
  },
  {
   "cell_type": "markdown",
   "metadata": {},
   "source": [
    "Let us fit a model with all the features available, plus the features we just created above."
   ]
  },
  {
   "cell_type": "code",
   "execution_count": 64,
   "metadata": {
    "collapsed": false
   },
   "outputs": [],
   "source": [
    "all_features = ['bedrooms', 'bedrooms_square',\n",
    "            'bathrooms',\n",
    "            'sqft_living', 'sqft_living_sqrt',\n",
    "            'sqft_lot', 'sqft_lot_sqrt',\n",
    "            'floors', 'floors_square',\n",
    "            'waterfront', 'view', 'condition', 'grade',\n",
    "            'sqft_above',\n",
    "            'sqft_basement',\n",
    "            'yr_built', 'yr_renovated']"
   ]
  },
  {
   "cell_type": "markdown",
   "metadata": {},
   "source": [
    "Applying L1 penalty requires adding an extra parameter (`l1_penalty`) to the linear regression call in GraphLab Create. (Other tools may have separate implementations of LASSO.)  Note that it's important to set `l2_penalty=0` to ensure we don't introduce an additional L2 penalty."
   ]
  },
  {
   "cell_type": "code",
   "execution_count": 65,
   "metadata": {
    "collapsed": false
   },
   "outputs": [
    {
     "name": "stdout",
     "output_type": "stream",
     "text": [
      "PROGRESS: Linear regression:\n",
      "PROGRESS: --------------------------------------------------------\n",
      "PROGRESS: Number of examples          : 21613\n",
      "PROGRESS: Number of features          : 17\n",
      "PROGRESS: Number of unpacked features : 17\n",
      "PROGRESS: Number of coefficients    : 18\n",
      "PROGRESS: Starting Accelerated Gradient (FISTA)\n",
      "PROGRESS: --------------------------------------------------------\n",
      "PROGRESS: +-----------+----------+-----------+--------------+--------------------+---------------+\n",
      "PROGRESS: | Iteration | Passes   | Step size | Elapsed Time | Training-max_error | Training-rmse |\n",
      "PROGRESS: +-----------+----------+-----------+--------------+--------------------+---------------+\n",
      "PROGRESS: Tuning step size. First iteration could take longer than subsequent iterations.\n",
      "PROGRESS: | 1         | 2        | 0.000002  | 0.385163     | 6962915.603493     | 426631.749026 |\n",
      "PROGRESS: | 2         | 3        | 0.000002  | 0.413729     | 6843144.200219     | 392488.929838 |\n",
      "PROGRESS: | 3         | 4        | 0.000002  | 0.443086     | 6831900.032123     | 385340.166783 |\n",
      "PROGRESS: | 4         | 5        | 0.000002  | 0.480055     | 6847166.848958     | 384842.383767 |\n",
      "PROGRESS: | 5         | 6        | 0.000002  | 0.509280     | 6869667.895833     | 385998.458623 |\n",
      "PROGRESS: | 6         | 7        | 0.000002  | 0.538611     | 6847177.773672     | 380824.455891 |\n",
      "PROGRESS: +-----------+----------+-----------+--------------+--------------------+---------------+\n",
      "PROGRESS: TERMINATED: Iteration limit reached.\n",
      "PROGRESS: This model may not be optimal. To improve it, consider increasing `max_iterations`.\n"
     ]
    }
   ],
   "source": [
    "model_all = graphlab.linear_regression.create(sales, target='price', \n",
    "                                              features=all_features,\n",
    "                                              validation_set=None, \n",
    "                                              l2_penalty=0., \n",
    "                                              l1_penalty=1e10)"
   ]
  },
  {
   "cell_type": "markdown",
   "metadata": {},
   "source": [
    "Find what features had non-zero weight."
   ]
  },
  {
   "cell_type": "code",
   "execution_count": 66,
   "metadata": {
    "collapsed": false
   },
   "outputs": [
    {
     "name": "stdout",
     "output_type": "stream",
     "text": [
      "+------------------+-------+---------------+\n",
      "|       name       | index |     value     |\n",
      "+------------------+-------+---------------+\n",
      "|   (intercept)    |  None |  274873.05595 |\n",
      "|     bedrooms     |  None |      0.0      |\n",
      "| bedrooms_square  |  None |      0.0      |\n",
      "|    bathrooms     |  None | 8468.53108691 |\n",
      "|   sqft_living    |  None | 24.4207209824 |\n",
      "| sqft_living_sqrt |  None | 350.060553386 |\n",
      "|     sqft_lot     |  None |      0.0      |\n",
      "|  sqft_lot_sqrt   |  None |      0.0      |\n",
      "|      floors      |  None |      0.0      |\n",
      "|  floors_square   |  None |      0.0      |\n",
      "|    waterfront    |  None |      0.0      |\n",
      "|       view       |  None |      0.0      |\n",
      "|    condition     |  None |      0.0      |\n",
      "|      grade       |  None | 842.068034898 |\n",
      "|    sqft_above    |  None | 20.0247224171 |\n",
      "|  sqft_basement   |  None |      0.0      |\n",
      "|     yr_built     |  None |      0.0      |\n",
      "|   yr_renovated   |  None |      0.0      |\n",
      "+------------------+-------+---------------+\n",
      "[18 rows x 3 columns]\n",
      "\n"
     ]
    }
   ],
   "source": [
    "model_all_coefficients = model_all.get(\"coefficients\")\n",
    "model_all_coefficients.print_rows(num_rows=20)"
   ]
  },
  {
   "cell_type": "markdown",
   "metadata": {},
   "source": [
    "Note that a majority of the weights have been set to zero. So by setting an L1 penalty that's large enough, we are performing a subset selection. "
   ]
  },
  {
   "cell_type": "markdown",
   "metadata": {},
   "source": [
    "***QUIZ QUESTION: According to this list of weights, which of the features have been chosen?*** "
   ]
  },
  {
   "cell_type": "code",
   "execution_count": 67,
   "metadata": {
    "collapsed": false
   },
   "outputs": [
    {
     "name": "stdout",
     "output_type": "stream",
     "text": [
      "bathrooms\n",
      "sqft_living\n",
      "sqft_living_sqrt\n",
      "grade\n",
      "sqft_above\n"
     ]
    }
   ],
   "source": [
    "for i in range(len(model_all_coefficients)):\n",
    "    if model_all_coefficients[i]['value'] != 0 and model_all_coefficients[i]['name'] != '(intercept)':\n",
    "        print model_all_coefficients[i]['name']"
   ]
  },
  {
   "cell_type": "markdown",
   "metadata": {},
   "source": [
    "# Selecting an L1 penalty"
   ]
  },
  {
   "cell_type": "markdown",
   "metadata": {},
   "source": [
    "To find a good L1 penalty, we will explore multiple values using a validation set. Let us do three way split into train, validation, and test sets:\n",
    "* Split our sales data into 2 sets: training and test\n",
    "* Further split our training data into two sets: train, validation\n",
    "\n",
    "Be *very* careful that you use seed = 1 to ensure you get the same answer!"
   ]
  },
  {
   "cell_type": "code",
   "execution_count": 68,
   "metadata": {
    "collapsed": true
   },
   "outputs": [],
   "source": [
    "(training_and_validation, testing) = sales.random_split(.9,seed=1) # initial train/test split\n",
    "(training, validation) = training_and_validation.random_split(0.5, seed=1) # split training into train and validate"
   ]
  },
  {
   "cell_type": "markdown",
   "metadata": {},
   "source": [
    "Next, we write a loop that does the following:\n",
    "* For `l1_penalty` in [10^1, 10^1.5, 10^2, 10^2.5, ..., 10^7] (to get this in Python, type `np.logspace(1, 7, num=13)`.)\n",
    "    * Fit a regression model with a given `l1_penalty` on TRAIN data. Specify `l1_penalty=l1_penalty` and `l2_penalty=0.` in the parameter list.\n",
    "    * Compute the RSS on VALIDATION data (here you will want to use `.predict()`) for that `l1_penalty`\n",
    "* Report which `l1_penalty` produced the lowest RSS on validation data.\n",
    "\n",
    "When you call `linear_regression.create()` make sure you set `validation_set = None`.\n",
    "\n",
    "Note: you can turn off the print out of `linear_regression.create()` with `verbose = False`"
   ]
  },
  {
   "cell_type": "code",
   "execution_count": 69,
   "metadata": {
    "collapsed": false
   },
   "outputs": [
    {
     "name": "stdout",
     "output_type": "stream",
     "text": [
      "l1_penalty= 10.0 :  6.25766285142e+14\n",
      "l1_penalty= 31.6227766017 :  6.25766285362e+14\n",
      "l1_penalty= 100.0 :  6.25766286058e+14\n",
      "l1_penalty= 316.227766017 :  6.25766288257e+14\n",
      "l1_penalty= 1000.0 :  6.25766295212e+14\n",
      "l1_penalty= 3162.27766017 :  6.25766317206e+14\n",
      "l1_penalty= 10000.0 :  6.25766386761e+14\n",
      "l1_penalty= 31622.7766017 :  6.25766606749e+14\n",
      "l1_penalty= 100000.0 :  6.25767302792e+14\n",
      "l1_penalty= 316227.766017 :  6.25769507644e+14\n",
      "l1_penalty= 1000000.0 :  6.25776517727e+14\n",
      "l1_penalty= 3162277.66017 :  6.25799062845e+14\n",
      "l1_penalty= 10000000.0 :  6.25883719085e+14\n",
      "\n",
      "min rss =  6.25766285142e+14\n",
      "min rss l1 penalty =  10.0\n"
     ]
    }
   ],
   "source": [
    "import numpy as np\n",
    "\n",
    "def get_numpy_data(data_sframe, features, output):\n",
    "    data_sframe['constant'] = 1\n",
    "    features = ['constant'] + features # this is how you combine two lists\n",
    "    \n",
    "    features_sframe = data_sframe[features]\n",
    "    feature_matrix = features_sframe.to_numpy()\n",
    "    \n",
    "    output_sarray = data_sframe[output]\n",
    "    output_array = output_sarray.to_numpy()\n",
    "    \n",
    "    return(feature_matrix, output_array)\n",
    "\n",
    "def predict_output(feature_matrix, weights):\n",
    "    predictions = np.dot(feature_matrix, weights)\n",
    "    return(predictions)\n",
    "\n",
    "def get_rss(model, data, outcome):\n",
    "    predictions = model.predict(data)\n",
    "    residuals = outcome - predictions\n",
    "    squared_residuals = residuals * residuals\n",
    "    RSS = squared_residuals.sum()\n",
    "    return(RSS)\n",
    "\n",
    "my_output = 'price'\n",
    "\n",
    "(feature_matrix, output) = get_numpy_data(training, all_features, my_output)\n",
    "(test_feature_matrix, test_output) = get_numpy_data(testing, all_features, my_output)\n",
    "\n",
    "min_rss = 0\n",
    "min_rss_l1_penalty = 0\n",
    "\n",
    "for l1_penalty in np.logspace(1, 7, num=13):\n",
    "    l1_model = graphlab.linear_regression.create(training,\n",
    "                                                 target='price',\n",
    "                                                 features=all_features,\n",
    "                                                 validation_set=None,\n",
    "                                                 l2_penalty=0.,\n",
    "                                                 l1_penalty = l1_penalty,\n",
    "                                                 verbose=False)\n",
    "    \n",
    "    rss = get_rss(l1_model, validation, validation[my_output])\n",
    "    \n",
    "    if min_rss == 0:\n",
    "        min_rss = rss\n",
    "        min_rss_l1_penalty = l1_penalty\n",
    "    else:\n",
    "        if rss < min_rss:\n",
    "            min_rss = rss\n",
    "            min_rss_l1_penalty = l1_penalty\n",
    "    \n",
    "    print \"l1_penalty=\", l1_penalty, \": \", rss\n",
    "\n",
    "print \"\"\n",
    "print \"min rss = \", min_rss\n",
    "print \"min rss l1 penalty = \", min_rss_l1_penalty"
   ]
  },
  {
   "cell_type": "markdown",
   "metadata": {},
   "source": [
    "*** QUIZ QUESTION: What was the best value for the `l1_penalty`?***"
   ]
  },
  {
   "cell_type": "code",
   "execution_count": 70,
   "metadata": {
    "collapsed": false
   },
   "outputs": [
    {
     "name": "stdout",
     "output_type": "stream",
     "text": [
      "10.0\n"
     ]
    }
   ],
   "source": [
    "print min_rss_l1_penalty"
   ]
  },
  {
   "cell_type": "markdown",
   "metadata": {
    "collapsed": false
   },
   "source": [
    "***QUIZ QUESTION: What is the RSS on TEST data of the model with the best `l1_penalty`?***"
   ]
  },
  {
   "cell_type": "code",
   "execution_count": 72,
   "metadata": {
    "collapsed": false
   },
   "outputs": [
    {
     "name": "stdout",
     "output_type": "stream",
     "text": [
      "1.56983602382e+14\n"
     ]
    }
   ],
   "source": [
    "best_l1_model = graphlab.linear_regression.create(training,\n",
    "                                                 target='price',\n",
    "                                                 features=all_features,\n",
    "                                                 validation_set=None,\n",
    "                                                 l2_penalty=0.,\n",
    "                                                 l1_penalty = min_rss_l1_penalty,\n",
    "                                                 verbose=False)\n",
    "\n",
    "test_rss = get_rss(best_l1_model, testing, testing[my_output])\n",
    "\n",
    "print test_rss"
   ]
  },
  {
   "cell_type": "markdown",
   "metadata": {},
   "source": [
    "***QUIZ QUESTION: Also, using this value of L1 penalty, how many nonzero weights do you have?***"
   ]
  },
  {
   "cell_type": "code",
   "execution_count": 59,
   "metadata": {
    "collapsed": false
   },
   "outputs": [
    {
     "name": "stdout",
     "output_type": "stream",
     "text": [
      "(intercept)\n",
      "bedrooms\n",
      "bedrooms_square\n",
      "bathrooms\n",
      "sqft_living\n",
      "sqft_living_sqrt\n",
      "sqft_lot\n",
      "sqft_lot_sqrt\n",
      "floors\n",
      "floors_square\n",
      "waterfront\n",
      "view\n",
      "condition\n",
      "grade\n",
      "sqft_above\n",
      "sqft_basement\n",
      "yr_built\n",
      "yr_renovated\n",
      "\n",
      "num nonzero weights =  18\n"
     ]
    }
   ],
   "source": [
    "best_l1_model_coefficients = best_l1_model.get(\"coefficients\")\n",
    "\n",
    "num_nonzero_weights = 0\n",
    "\n",
    "for i in range(len(best_l1_model_coefficients)):\n",
    "    if best_l1_model_coefficients[i]['value'] != 0:\n",
    "        print best_l1_model_coefficients[i]['name']\n",
    "        num_nonzero_weights += 1\n",
    "\n",
    "print \"\"\n",
    "print \"num nonzero weights = \", num_nonzero_weights"
   ]
  },
  {
   "cell_type": "markdown",
   "metadata": {},
   "source": [
    "# Limit the number of nonzero weights\n",
    "\n",
    "What if we absolutely wanted to limit ourselves to, say, 7 features? This may be important if we want to derive \"a rule of thumb\" --- an interpretable model that has only a few features in them."
   ]
  },
  {
   "cell_type": "markdown",
   "metadata": {},
   "source": [
    "In this section, you are going to implement a simple, two phase procedure to achive this goal:\n",
    "1. Explore a large range of `l1_penalty` values to find a narrow region of `l1_penalty` values where models are likely to have the desired number of non-zero weights.\n",
    "2. Further explore the narrow region you found to find a good value for `l1_penalty` that achieves the desired sparsity.  Here, we will again use a validation set to choose the best value for `l1_penalty`."
   ]
  },
  {
   "cell_type": "code",
   "execution_count": 23,
   "metadata": {
    "collapsed": true
   },
   "outputs": [],
   "source": [
    "max_nonzeros = 7"
   ]
  },
  {
   "cell_type": "markdown",
   "metadata": {},
   "source": [
    "## Exploring the larger range of values to find a narrow range with the desired sparsity\n",
    "\n",
    "Let's define a wide range of possible `l1_penalty_values`:"
   ]
  },
  {
   "cell_type": "code",
   "execution_count": 24,
   "metadata": {
    "collapsed": false
   },
   "outputs": [],
   "source": [
    "l1_penalty_values = np.logspace(8, 10, num=20)"
   ]
  },
  {
   "cell_type": "markdown",
   "metadata": {},
   "source": [
    "Now, implement a loop that search through this space of possible `l1_penalty` values:\n",
    "\n",
    "* For `l1_penalty` in `np.logspace(8, 10, num=20)`:\n",
    "    * Fit a regression model with a given `l1_penalty` on TRAIN data. Specify `l1_penalty=l1_penalty` and `l2_penalty=0.` in the parameter list. When you call `linear_regression.create()` make sure you set `validation_set = None`\n",
    "    * Extract the weights of the model and count the number of nonzeros. Save the number of nonzeros to a list.\n",
    "        * *Hint: `model['coefficients']['value']` gives you an SArray with the parameters you learned.  If you call the method `.nnz()` on it, you will find the number of non-zero parameters!* "
   ]
  },
  {
   "cell_type": "code",
   "execution_count": 29,
   "metadata": {
    "collapsed": false
   },
   "outputs": [
    {
     "name": "stdout",
     "output_type": "stream",
     "text": [
      "l1_penalty =  100000000.0 : non-zero weights =  18\n",
      "l1_penalty =  127427498.57 : non-zero weights =  18\n",
      "l1_penalty =  162377673.919 : non-zero weights =  18\n",
      "l1_penalty =  206913808.111 : non-zero weights =  18\n",
      "l1_penalty =  263665089.873 : non-zero weights =  17\n",
      "l1_penalty =  335981828.628 : non-zero weights =  17\n",
      "l1_penalty =  428133239.872 : non-zero weights =  17\n",
      "l1_penalty =  545559478.117 : non-zero weights =  17\n",
      "l1_penalty =  695192796.178 : non-zero weights =  17\n",
      "l1_penalty =  885866790.41 : non-zero weights =  16\n",
      "l1_penalty =  1128837891.68 : non-zero weights =  15\n",
      "l1_penalty =  1438449888.29 : non-zero weights =  15\n",
      "l1_penalty =  1832980710.83 : non-zero weights =  13\n",
      "l1_penalty =  2335721469.09 : non-zero weights =  12\n",
      "l1_penalty =  2976351441.63 : non-zero weights =  10\n",
      "l1_penalty =  3792690190.73 : non-zero weights =  6\n",
      "l1_penalty =  4832930238.57 : non-zero weights =  5\n",
      "l1_penalty =  6158482110.66 : non-zero weights =  3\n",
      "l1_penalty =  7847599703.51 : non-zero weights =  1\n",
      "l1_penalty =  10000000000.0 : non-zero weights =  1\n"
     ]
    }
   ],
   "source": [
    "l1_penalty_min = 0\n",
    "l1_penalty_max = l1_penalty_values[len(l1_penalty_values)-1]\n",
    "\n",
    "for l1_penalty in l1_penalty_values:\n",
    "    new_l1_model = graphlab.linear_regression.create(training,\n",
    "                                                     target='price',\n",
    "                                                     features=all_features,\n",
    "                                                     validation_set=None,\n",
    "                                                     l2_penalty=0.,\n",
    "                                                     l1_penalty = l1_penalty,\n",
    "                                                     verbose=False)\n",
    "    \n",
    "    new_l1_model_weights = new_l1_model['coefficients']['value']\n",
    "    num_nonzero_weights = new_l1_model_weights.nnz()\n",
    "    \n",
    "    if l1_penalty > l1_penalty_min and num_nonzero_weights > max_nonzeros:\n",
    "        l1_penalty_min = l1_penalty\n",
    "    \n",
    "    if l1_penalty < l1_penalty_max and num_nonzero_weights < max_nonzeros:\n",
    "        l1_penalty_max = l1_penalty\n",
    "    \n",
    "    print \"l1_penalty = \", l1_penalty, \": non-zero weights = \", num_nonzero_weights"
   ]
  },
  {
   "cell_type": "markdown",
   "metadata": {},
   "source": [
    "Out of this large range, we want to find the two ends of our desired narrow range of `l1_penalty`.  At one end, we will have `l1_penalty` values that have too few non-zeros, and at the other end, we will have an `l1_penalty` that has too many non-zeros.  \n",
    "\n",
    "More formally, find:\n",
    "* The largest `l1_penalty` that has more non-zeros than `max_nonzero` (if we pick a penalty smaller than this value, we will definitely have too many non-zero weights)\n",
    "    * Store this value in the variable `l1_penalty_min` (we will use it later)\n",
    "* The smallest `l1_penalty` that has fewer non-zeros than `max_nonzero` (if we pick a penalty larger than this value, we will definitely have too few non-zero weights)\n",
    "    * Store this value in the variable `l1_penalty_max` (we will use it later)\n",
    "\n",
    "\n",
    "*Hint: there are many ways to do this, e.g.:*\n",
    "* Programmatically within the loop above\n",
    "* Creating a list with the number of non-zeros for each value of `l1_penalty` and inspecting it to find the appropriate boundaries."
   ]
  },
  {
   "cell_type": "markdown",
   "metadata": {},
   "source": [
    "***QUIZ QUESTIONS: What values did you find for `l1_penalty_min` and`l1_penalty_max`?*** "
   ]
  },
  {
   "cell_type": "code",
   "execution_count": 56,
   "metadata": {
    "collapsed": false
   },
   "outputs": [
    {
     "name": "stdout",
     "output_type": "stream",
     "text": [
      "l1_penalty_min =  2976351442\n",
      "l1_penalty_max =  3792690191\n"
     ]
    }
   ],
   "source": [
    "print \"l1_penalty_min =\", (\"{0:.0f}\".format(round(l1_penalty_min, 0)))\n",
    "print \"l1_penalty_max =\", (\"{0:.0f}\".format(round(l1_penalty_max, 0)))"
   ]
  },
  {
   "cell_type": "markdown",
   "metadata": {},
   "source": [
    "## Exploring the narrow range of values to find the solution with the right number of non-zeros that has lowest RSS on the validation set \n",
    "\n",
    "We will now explore the narrow region of `l1_penalty` values we found:"
   ]
  },
  {
   "cell_type": "code",
   "execution_count": 33,
   "metadata": {
    "collapsed": true
   },
   "outputs": [],
   "source": [
    "narrow_l1_penalty_values = np.linspace(l1_penalty_min,l1_penalty_max,20)"
   ]
  },
  {
   "cell_type": "markdown",
   "metadata": {},
   "source": [
    "* For `l1_penalty` in `np.linspace(l1_penalty_min,l1_penalty_max,20)`:\n",
    "    * Fit a regression model with a given `l1_penalty` on TRAIN data. Specify `l1_penalty=l1_penalty` and `l2_penalty=0.` in the parameter list. When you call `linear_regression.create()` make sure you set `validation_set = None`\n",
    "    * Measure the RSS of the learned model on the VALIDATION set\n",
    "\n",
    "Find the model that the lowest RSS on the VALIDATION set and has sparsity *equal* to `max_nonzero`."
   ]
  },
  {
   "cell_type": "code",
   "execution_count": 37,
   "metadata": {
    "collapsed": false
   },
   "outputs": [
    {
     "name": "stdout",
     "output_type": "stream",
     "text": [
      "l1_penalty = 2976351441.63 : rss =  9.66925692362e+14 ; nonzeros =  10\n",
      "l1_penalty = 3019316638.95 : rss =  9.74019450085e+14 ; nonzeros =  10\n",
      "l1_penalty = 3062281836.27 : rss =  9.81188367942e+14 ; nonzeros =  10\n",
      "l1_penalty = 3105247033.59 : rss =  9.89328342459e+14 ; nonzeros =  10\n",
      "l1_penalty = 3148212230.92 : rss =  9.98783211266e+14 ; nonzeros =  10\n",
      "l1_penalty = 3191177428.24 : rss =  1.00847716702e+15 ; nonzeros =  10\n",
      "l1_penalty = 3234142625.56 : rss =  1.01829878055e+15 ; nonzeros =  10\n",
      "l1_penalty = 3277107822.88 : rss =  1.02824799221e+15 ; nonzeros =  10\n",
      "l1_penalty = 3320073020.2 : rss =  1.03461690923e+15 ; nonzeros =  8\n",
      "l1_penalty = 3363038217.52 : rss =  1.03855473594e+15 ; nonzeros =  8\n",
      "l1_penalty = 3406003414.84 : rss =  1.04323723787e+15 ; nonzeros =  8\n",
      "l1_penalty = 3448968612.16 : rss =  1.04693748875e+15 ; nonzeros =  7\n",
      "l1_penalty = 3491933809.48 : rss =  1.05114762561e+15 ; nonzeros =  7\n",
      "l1_penalty = 3534899006.81 : rss =  1.05599273534e+15 ; nonzeros =  7\n",
      "l1_penalty = 3577864204.13 : rss =  1.06079953176e+15 ; nonzeros =  7\n",
      "l1_penalty = 3620829401.45 : rss =  1.0657076895e+15 ; nonzeros =  6\n",
      "l1_penalty = 3663794598.77 : rss =  1.06946433543e+15 ; nonzeros =  6\n",
      "l1_penalty = 3706759796.09 : rss =  1.07350454959e+15 ; nonzeros =  6\n",
      "l1_penalty = 3749724993.41 : rss =  1.07763277558e+15 ; nonzeros =  6\n",
      "l1_penalty = 3792690190.73 : rss =  1.08186759232e+15 ; nonzeros =  6\n",
      "\n",
      "min rss =  9.66925692362e+14\n",
      "min rss l1 penalty =  2976351441.63\n"
     ]
    }
   ],
   "source": [
    "min_rss = 0\n",
    "min_rss_l1_penalty = 0\n",
    "\n",
    "rss_and_numzeros_per_l1_penalty = {}\n",
    "\n",
    "for l1_penalty in narrow_l1_penalty_values:\n",
    "    narrow_l1_model = graphlab.linear_regression.create(training,\n",
    "                                                        target=my_output,\n",
    "                                                        features=all_features,\n",
    "                                                        validation_set=None,\n",
    "                                                        l2_penalty=0.,\n",
    "                                                        l1_penalty=l1_penalty,\n",
    "                                                        verbose=False)\n",
    "    \n",
    "    rss = get_rss(narrow_l1_model, validation, validation[my_output])\n",
    "    \n",
    "    narrow_l1_model_weights = narrow_l1_model['coefficients']['value']\n",
    "    num_nonzero_weights = narrow_l1_model_weights.nnz()\n",
    "    \n",
    "    rss_and_numzeros = [rss, num_nonzero_weights]\n",
    "    rss_and_numzeros_per_l1_penalty[l1_penalty] = rss_and_numzeros\n",
    "    \n",
    "    if min_rss == 0:\n",
    "        min_rss = rss\n",
    "        min_rss_l1_penalty = l1_penalty\n",
    "    else:\n",
    "        if rss < min_rss:\n",
    "            min_rss = rss\n",
    "            min_rss_l1_penalty = l1_penalty\n",
    "    \n",
    "    print \"l1_penalty =\", l1_penalty, \": rss = \", rss, \"; nonzeros = \", num_nonzero_weights\n",
    "\n",
    "print \"\"\n",
    "print \"min rss = \", min_rss\n",
    "print \"min rss l1 penalty = \", min_rss_l1_penalty"
   ]
  },
  {
   "cell_type": "markdown",
   "metadata": {},
   "source": [
    "***QUIZ QUESTION: What value of `l1_penalty` in our narrow range has the lowest RSS on the VALIDATION set and has sparsity *equal* to `max_nonzeros`?***"
   ]
  },
  {
   "cell_type": "code",
   "execution_count": 41,
   "metadata": {
    "collapsed": false
   },
   "outputs": [],
   "source": [
    "max_nonzero_l1_penalty = 0\n",
    "\n",
    "for l1_penalty in rss_and_numzeros_per_l1_penalty:\n",
    "    if rss_and_numzeros_per_l1_penalty[l1_penalty][1] == max_nonzeros:\n",
    "        if max_nonzero_l1_penalty == 0:\n",
    "            max_nonzero_l1_penalty = l1_penalty\n",
    "        elif rss_and_numzeros_per_l1_penalty[l1_penalty] < rss_and_numzeros_per_l1_penalty[max_nonzero_l1_penalty]:\n",
    "            max_nonzero_l1_penalty = l1_penalty"
   ]
  },
  {
   "cell_type": "code",
   "execution_count": 58,
   "metadata": {
    "collapsed": false
   },
   "outputs": [
    {
     "name": "stdout",
     "output_type": "stream",
     "text": [
      "3448968612\n"
     ]
    }
   ],
   "source": [
    "print (\"{0:.0f}\".format(round(max_nonzero_l1_penalty, 0)))"
   ]
  },
  {
   "cell_type": "markdown",
   "metadata": {},
   "source": [
    "***QUIZ QUESTION: What features in this model have non-zero coefficients?***"
   ]
  },
  {
   "cell_type": "code",
   "execution_count": 60,
   "metadata": {
    "collapsed": false
   },
   "outputs": [
    {
     "name": "stdout",
     "output_type": "stream",
     "text": [
      "+------------------+-------+---------------+\n",
      "|       name       | index |     value     |\n",
      "+------------------+-------+---------------+\n",
      "|   (intercept)    |  None | 222253.192544 |\n",
      "|     bedrooms     |  None | 661.722717782 |\n",
      "| bedrooms_square  |  None |      0.0      |\n",
      "|    bathrooms     |  None | 15873.9572593 |\n",
      "|   sqft_living    |  None | 32.4102214513 |\n",
      "| sqft_living_sqrt |  None | 690.114773313 |\n",
      "|     sqft_lot     |  None |      0.0      |\n",
      "|  sqft_lot_sqrt   |  None |      0.0      |\n",
      "|      floors      |  None |      0.0      |\n",
      "|  floors_square   |  None |      0.0      |\n",
      "|    waterfront    |  None |      0.0      |\n",
      "|       view       |  None |      0.0      |\n",
      "|    condition     |  None |      0.0      |\n",
      "|      grade       |  None | 2899.42026975 |\n",
      "|    sqft_above    |  None | 30.0115753022 |\n",
      "|  sqft_basement   |  None |      0.0      |\n",
      "|     yr_built     |  None |      0.0      |\n",
      "|   yr_renovated   |  None |      0.0      |\n",
      "+------------------+-------+---------------+\n",
      "[18 rows x 3 columns]\n",
      "\n",
      "None\n",
      "(intercept)\n",
      "bedrooms\n",
      "bathrooms\n",
      "sqft_living\n",
      "sqft_living_sqrt\n",
      "grade\n",
      "sqft_above\n"
     ]
    }
   ],
   "source": [
    "best_l1_penalty_model = graphlab.linear_regression.create(training,\n",
    "                                                          target=my_output,\n",
    "                                                          features=all_features,\n",
    "                                                          l2_penalty=0.,\n",
    "                                                          l1_penalty=max_nonzero_l1_penalty,\n",
    "                                                          validation_set=None,\n",
    "                                                          verbose=False)\n",
    "\n",
    "best_l1_penalty_model_weights = best_l1_penalty_model.get('coefficients')\n",
    "print best_l1_penalty_model_weights.print_rows(num_rows=20)\n",
    "\n",
    "for coefficient in best_l1_penalty_model_weights:\n",
    "    if coefficient['value'] != 0:\n",
    "        print coefficient['name']    "
   ]
  }
 ],
 "metadata": {
  "kernelspec": {
   "display_name": "Python 2",
   "language": "python",
   "name": "python2"
  },
  "language_info": {
   "codemirror_mode": {
    "name": "ipython",
    "version": 2
   },
   "file_extension": ".py",
   "mimetype": "text/x-python",
   "name": "python",
   "nbconvert_exporter": "python",
   "pygments_lexer": "ipython2",
   "version": "2.7.10"
  }
 },
 "nbformat": 4,
 "nbformat_minor": 0
}
