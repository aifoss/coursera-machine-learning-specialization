{
 "cells": [
  {
   "cell_type": "markdown",
   "metadata": {},
   "source": [
    "## Fitting a Diagonal Covariance Gaussian Mixture Model to Text Data\n",
    "\n",
    "In a previous assignment, we explored k-means clustering for a high-dimensional Wikipedia dataset. We can also model this data with a mixture of Gaussians, though with increasing dimension we run into two important issues associated with using a full covariance matrix for each component.\n",
    " * Computational cost becomes prohibitive in high dimensions: score calculations have complexity cubic in the number of dimensions M if the Gaussian has a full covariance matrix.\n",
    " * A model with many parameters require more data: bserve that a full covariance matrix for an M-dimensional Gaussian will have M(M+1)/2 parameters to fit. With the number of parameters growing roughly as the square of the dimension, it may quickly become impossible to find a sufficient amount of data to make good inferences.\n",
    "\n",
    "Both of these issues are avoided if we require the covariance matrix of each component to be diagonal, as then it has only M parameters to fit and the score computation decomposes into M univariate score calculations. Recall from the lecture that the M-step for the full covariance is:\n",
    "\n",
    "\\begin{align*}\n",
    "\\hat{\\Sigma}_k &= \\frac{1}{N_k^{soft}} \\sum_{i=1}^N r_{ik} (x_i-\\hat{\\mu}_k)(x_i - \\hat{\\mu}_k)^T\n",
    "\\end{align*}\n",
    "\n",
    "Note that this is a square matrix with M rows and M columns, and the above equation implies that the (v, w) element is computed by\n",
    "\n",
    "\\begin{align*}\n",
    "\\hat{\\Sigma}_{k, v, w} &= \\frac{1}{N_k^{soft}} \\sum_{i=1}^N r_{ik} (x_{iv}-\\hat{\\mu}_{kv})(x_{iw} - \\hat{\\mu}_{kw})\n",
    "\\end{align*}\n",
    "\n",
    "When we assume that this is a diagonal matrix, then non-diagonal elements are assumed to be zero and we only need to compute each of the M elements along the diagonal independently using the following equation. \n",
    "\n",
    "\\begin{align*}\n",
    "\\hat{\\sigma}^2_{k, v} &= \\hat{\\Sigma}_{k, v, v}  \\\\\n",
    "&= \\frac{1}{N_k^{soft}} \\sum_{i=1}^N r_{ik} (x_{iv}-\\hat{\\mu}_{kv})^2\n",
    "\\end{align*}\n",
    "\n",
    "In this section, we will use an EM implementation to fit a Gaussian mixture model with **diagonal** covariances to a subset of the Wikipedia dataset. The implementation uses the above equation to compute each variance term. \n",
    "\n",
    "We'll begin by importing the dataset and coming up with a useful representation for each article. After running our algorithm on the data, we will explore the output to see whether we can give a meaningful interpretation to the fitted parameters in our model."
   ]
  },
  {
   "cell_type": "markdown",
   "metadata": {},
   "source": [
    "**Note to Amazon EC2 users**: To conserve memory, make sure to stop all the other notebooks before running this notebook."
   ]
  },
  {
   "cell_type": "markdown",
   "metadata": {},
   "source": [
    "## Import necessary packages"
   ]
  },
  {
   "cell_type": "code",
   "execution_count": 1,
   "metadata": {
    "collapsed": false
   },
   "outputs": [
    {
     "name": "stderr",
     "output_type": "stream",
     "text": [
      "A newer version of GraphLab Create (v2.0.1) is available! Your current version is v2.0.\n",
      "\n",
      "You can use pip to upgrade the graphlab-create package. For more information see https://turi.com/products/create/upgrade.\n"
     ]
    }
   ],
   "source": [
    "import graphlab"
   ]
  },
  {
   "cell_type": "markdown",
   "metadata": {},
   "source": [
    "We also have a Python file containing implementations for several functions that will be used during the course of this assignment."
   ]
  },
  {
   "cell_type": "code",
   "execution_count": 2,
   "metadata": {
    "collapsed": false
   },
   "outputs": [],
   "source": [
    "from em_utilities import *"
   ]
  },
  {
   "cell_type": "markdown",
   "metadata": {},
   "source": [
    "## Load Wikipedia data and extract TF-IDF features"
   ]
  },
  {
   "cell_type": "markdown",
   "metadata": {},
   "source": [
    "Load Wikipedia data and transform each of the first 5000 document into a TF-IDF representation."
   ]
  },
  {
   "cell_type": "code",
   "execution_count": 3,
   "metadata": {
    "collapsed": false
   },
   "outputs": [
    {
     "name": "stderr",
     "output_type": "stream",
     "text": [
      "[INFO] graphlab.cython.cy_server: GraphLab Create v2.0 started. Logging: /tmp/graphlab_server_1468196515.log\n",
      "INFO:graphlab.cython.cy_server:GraphLab Create v2.0 started. Logging: /tmp/graphlab_server_1468196515.log\n"
     ]
    },
    {
     "name": "stdout",
     "output_type": "stream",
     "text": [
      "This non-commercial license of GraphLab Create is assigned to sathenikos@gmail.com and will expire on November 27, 2016. For commercial licensing options, visit https://turi.com/buy/.\n"
     ]
    }
   ],
   "source": [
    "wiki = graphlab.SFrame('people_wiki.gl/').head(5000)\n",
    "wiki['tf_idf'] = graphlab.text_analytics.tf_idf(wiki['text'])"
   ]
  },
  {
   "cell_type": "markdown",
   "metadata": {},
   "source": [
    "Using a utility we provide, we will create a sparse matrix representation of the documents. This is the same utility function you used during the previous assignment on k-means with text data."
   ]
  },
  {
   "cell_type": "code",
   "execution_count": 4,
   "metadata": {
    "collapsed": false
   },
   "outputs": [],
   "source": [
    "tf_idf, map_index_to_word = sframe_to_scipy(wiki, 'tf_idf')"
   ]
  },
  {
   "cell_type": "markdown",
   "metadata": {},
   "source": [
    "As in the previous assignment, we will normalize each document's TF-IDF vector to be a unit vector. "
   ]
  },
  {
   "cell_type": "code",
   "execution_count": 5,
   "metadata": {
    "collapsed": false
   },
   "outputs": [],
   "source": [
    "tf_idf = normalize(tf_idf)"
   ]
  },
  {
   "cell_type": "code",
   "execution_count": 6,
   "metadata": {
    "collapsed": false
   },
   "outputs": [
    {
     "data": {
      "text/plain": [
       "<5000x100282 sparse matrix of type '<type 'numpy.float64'>'\n",
       "\twith 881415 stored elements in Compressed Sparse Row format>"
      ]
     },
     "execution_count": 6,
     "metadata": {},
     "output_type": "execute_result"
    }
   ],
   "source": [
    "tf_idf"
   ]
  },
  {
   "cell_type": "code",
   "execution_count": 7,
   "metadata": {
    "collapsed": false
   },
   "outputs": [
    {
     "data": {
      "text/html": [
       "<div style=\"max-height:1000px;max-width:1500px;overflow:auto;\"><table frame=\"box\" rules=\"cols\">\n",
       "    <tr>\n",
       "        <th style=\"padding-left: 1em; padding-right: 1em; text-align: center\">feature</th>\n",
       "        <th style=\"padding-left: 1em; padding-right: 1em; text-align: center\">category</th>\n",
       "        <th style=\"padding-left: 1em; padding-right: 1em; text-align: center\">index</th>\n",
       "    </tr>\n",
       "    <tr>\n",
       "        <td style=\"padding-left: 1em; padding-right: 1em; text-align: center; vertical-align: top\">feature</td>\n",
       "        <td style=\"padding-left: 1em; padding-right: 1em; text-align: center; vertical-align: top\">conflating</td>\n",
       "        <td style=\"padding-left: 1em; padding-right: 1em; text-align: center; vertical-align: top\">0</td>\n",
       "    </tr>\n",
       "    <tr>\n",
       "        <td style=\"padding-left: 1em; padding-right: 1em; text-align: center; vertical-align: top\">feature</td>\n",
       "        <td style=\"padding-left: 1em; padding-right: 1em; text-align: center; vertical-align: top\">diamono</td>\n",
       "        <td style=\"padding-left: 1em; padding-right: 1em; text-align: center; vertical-align: top\">1</td>\n",
       "    </tr>\n",
       "    <tr>\n",
       "        <td style=\"padding-left: 1em; padding-right: 1em; text-align: center; vertical-align: top\">feature</td>\n",
       "        <td style=\"padding-left: 1em; padding-right: 1em; text-align: center; vertical-align: top\">bailouts</td>\n",
       "        <td style=\"padding-left: 1em; padding-right: 1em; text-align: center; vertical-align: top\">2</td>\n",
       "    </tr>\n",
       "    <tr>\n",
       "        <td style=\"padding-left: 1em; padding-right: 1em; text-align: center; vertical-align: top\">feature</td>\n",
       "        <td style=\"padding-left: 1em; padding-right: 1em; text-align: center; vertical-align: top\">electionruss</td>\n",
       "        <td style=\"padding-left: 1em; padding-right: 1em; text-align: center; vertical-align: top\">3</td>\n",
       "    </tr>\n",
       "    <tr>\n",
       "        <td style=\"padding-left: 1em; padding-right: 1em; text-align: center; vertical-align: top\">feature</td>\n",
       "        <td style=\"padding-left: 1em; padding-right: 1em; text-align: center; vertical-align: top\">maywoods</td>\n",
       "        <td style=\"padding-left: 1em; padding-right: 1em; text-align: center; vertical-align: top\">4</td>\n",
       "    </tr>\n",
       "    <tr>\n",
       "        <td style=\"padding-left: 1em; padding-right: 1em; text-align: center; vertical-align: top\">feature</td>\n",
       "        <td style=\"padding-left: 1em; padding-right: 1em; text-align: center; vertical-align: top\">feduring</td>\n",
       "        <td style=\"padding-left: 1em; padding-right: 1em; text-align: center; vertical-align: top\">5</td>\n",
       "    </tr>\n",
       "    <tr>\n",
       "        <td style=\"padding-left: 1em; padding-right: 1em; text-align: center; vertical-align: top\">feature</td>\n",
       "        <td style=\"padding-left: 1em; padding-right: 1em; text-align: center; vertical-align: top\">spiderbait</td>\n",
       "        <td style=\"padding-left: 1em; padding-right: 1em; text-align: center; vertical-align: top\">6</td>\n",
       "    </tr>\n",
       "    <tr>\n",
       "        <td style=\"padding-left: 1em; padding-right: 1em; text-align: center; vertical-align: top\">feature</td>\n",
       "        <td style=\"padding-left: 1em; padding-right: 1em; text-align: center; vertical-align: top\">mcin</td>\n",
       "        <td style=\"padding-left: 1em; padding-right: 1em; text-align: center; vertical-align: top\">7</td>\n",
       "    </tr>\n",
       "    <tr>\n",
       "        <td style=\"padding-left: 1em; padding-right: 1em; text-align: center; vertical-align: top\">feature</td>\n",
       "        <td style=\"padding-left: 1em; padding-right: 1em; text-align: center; vertical-align: top\">sumiswald</td>\n",
       "        <td style=\"padding-left: 1em; padding-right: 1em; text-align: center; vertical-align: top\">8</td>\n",
       "    </tr>\n",
       "    <tr>\n",
       "        <td style=\"padding-left: 1em; padding-right: 1em; text-align: center; vertical-align: top\">feature</td>\n",
       "        <td style=\"padding-left: 1em; padding-right: 1em; text-align: center; vertical-align: top\">quinta</td>\n",
       "        <td style=\"padding-left: 1em; padding-right: 1em; text-align: center; vertical-align: top\">9</td>\n",
       "    </tr>\n",
       "</table>\n",
       "[100282 rows x 3 columns]<br/>Note: Only the head of the SFrame is printed.<br/>You can use print_rows(num_rows=m, num_columns=n) to print more rows and columns.\n",
       "</div>"
      ],
      "text/plain": [
       "Columns:\n",
       "\tfeature\tstr\n",
       "\tcategory\tstr\n",
       "\tindex\tint\n",
       "\n",
       "Rows: 100282\n",
       "\n",
       "Data:\n",
       "+---------+--------------+-------+\n",
       "| feature |   category   | index |\n",
       "+---------+--------------+-------+\n",
       "| feature |  conflating  |   0   |\n",
       "| feature |   diamono    |   1   |\n",
       "| feature |   bailouts   |   2   |\n",
       "| feature | electionruss |   3   |\n",
       "| feature |   maywoods   |   4   |\n",
       "| feature |   feduring   |   5   |\n",
       "| feature |  spiderbait  |   6   |\n",
       "| feature |     mcin     |   7   |\n",
       "| feature |  sumiswald   |   8   |\n",
       "| feature |    quinta    |   9   |\n",
       "+---------+--------------+-------+\n",
       "[100282 rows x 3 columns]\n",
       "Note: Only the head of the SFrame is printed.\n",
       "You can use print_rows(num_rows=m, num_columns=n) to print more rows and columns."
      ]
     },
     "execution_count": 7,
     "metadata": {},
     "output_type": "execute_result"
    }
   ],
   "source": [
    "map_index_to_word"
   ]
  },
  {
   "cell_type": "markdown",
   "metadata": {},
   "source": [
    "We can check that the length (Euclidean norm) of each row is now 1.0, as expected."
   ]
  },
  {
   "cell_type": "code",
   "execution_count": 8,
   "metadata": {
    "collapsed": false,
    "scrolled": true
   },
   "outputs": [
    {
     "name": "stdout",
     "output_type": "stream",
     "text": [
      "1.0\n",
      "1.0\n",
      "1.0\n",
      "1.0\n",
      "1.0\n"
     ]
    }
   ],
   "source": [
    "for i in range(5):\n",
    "    doc = tf_idf[i]\n",
    "    print(np.linalg.norm(doc.todense()))"
   ]
  },
  {
   "cell_type": "markdown",
   "metadata": {},
   "source": [
    "## EM in high dimensions\n",
    "\n",
    "EM for high-dimensional data requires some special treatment:\n",
    " * E step and M step must be vectorized as much as possible, as explicit loops are dreadfully slow in Python.\n",
    " * All operations must be cast in terms of sparse matrix operations, to take advantage of computational savings enabled by sparsity of data.\n",
    " * Initially, some words may be entirely absent from a cluster, causing the M step to produce zero mean and variance for those words.  This means any data point with one of those words will have 0 probability of being assigned to that cluster since the cluster allows for no variability (0 variance) around that count being 0 (0 mean). Since there is a small chance for those words to later appear in the cluster, we instead assign a small positive variance (~1e-10). Doing so also prevents numerical overflow.\n",
    " \n",
    "We provide the complete implementation for you in the file `em_utilities.py`. For those who are interested, you can read through the code to see how the sparse matrix implementation differs from the previous assignment. \n",
    "\n",
    "You are expected to answer some quiz questions using the results of clustering."
   ]
  },
  {
   "cell_type": "markdown",
   "metadata": {},
   "source": [
    "**Initializing mean parameters using k-means**\n",
    "\n",
    "Recall from the lectures that EM for Gaussian mixtures is very sensitive to the choice of initial means. With a bad initial set of means, EM may produce clusters that span a large area and are mostly overlapping. To eliminate such bad outcomes, we first produce a suitable set of initial means by using the cluster centers from running k-means.  That is, we first run k-means and then take the final set of means from the converged solution as the initial means in our EM algorithm."
   ]
  },
  {
   "cell_type": "code",
   "execution_count": 9,
   "metadata": {
    "collapsed": false
   },
   "outputs": [],
   "source": [
    "from sklearn.cluster import KMeans\n",
    "\n",
    "np.random.seed(5)\n",
    "num_clusters = 25\n",
    "\n",
    "# Use scikit-learn's k-means to simplify workflow\n",
    "kmeans_model = KMeans(n_clusters=num_clusters, n_init=5, max_iter=400, random_state=1, n_jobs=-1)\n",
    "kmeans_model.fit(tf_idf)\n",
    "centroids, cluster_assignment = kmeans_model.cluster_centers_, kmeans_model.labels_\n",
    "\n",
    "means = [centroid for centroid in centroids]"
   ]
  },
  {
   "cell_type": "code",
   "execution_count": 10,
   "metadata": {
    "collapsed": false
   },
   "outputs": [
    {
     "data": {
      "text/plain": [
       "array([[  0.00000000e+00,   0.00000000e+00,   0.00000000e+00, ...,\n",
       "          2.01954039e-04,   1.04447276e-04,   9.87192763e-05],\n",
       "       [  0.00000000e+00,   0.00000000e+00,   0.00000000e+00, ...,\n",
       "          1.98056588e-04,   1.43796792e-04,   8.95769954e-05],\n",
       "       [  0.00000000e+00,   0.00000000e+00,   0.00000000e+00, ...,\n",
       "          2.16092642e-04,   1.45670542e-04,   8.38163507e-05],\n",
       "       ..., \n",
       "       [  0.00000000e+00,   0.00000000e+00,   0.00000000e+00, ...,\n",
       "          2.52539829e-04,   9.91611421e-05,   9.98666161e-05],\n",
       "       [  0.00000000e+00,   0.00000000e+00,   0.00000000e+00, ...,\n",
       "          2.00512550e-04,   1.49560114e-04,   8.74332729e-05],\n",
       "       [  0.00000000e+00,   0.00000000e+00,   0.00000000e+00, ...,\n",
       "          2.55275658e-04,   1.03627359e-04,   1.04781410e-04]])"
      ]
     },
     "execution_count": 10,
     "metadata": {},
     "output_type": "execute_result"
    }
   ],
   "source": [
    "centroids"
   ]
  },
  {
   "cell_type": "code",
   "execution_count": 11,
   "metadata": {
    "collapsed": false
   },
   "outputs": [
    {
     "data": {
      "text/plain": [
       "array([22, 23, 15, ...,  2,  2,  8], dtype=int32)"
      ]
     },
     "execution_count": 11,
     "metadata": {},
     "output_type": "execute_result"
    }
   ],
   "source": [
    "cluster_assignment"
   ]
  },
  {
   "cell_type": "code",
   "execution_count": 12,
   "metadata": {
    "collapsed": false
   },
   "outputs": [
    {
     "data": {
      "text/plain": [
       "[array([  0.00000000e+00,   0.00000000e+00,   0.00000000e+00, ...,\n",
       "          2.01954039e-04,   1.04447276e-04,   9.87192763e-05]),\n",
       " array([  0.00000000e+00,   0.00000000e+00,   0.00000000e+00, ...,\n",
       "          1.98056588e-04,   1.43796792e-04,   8.95769954e-05]),\n",
       " array([  0.00000000e+00,   0.00000000e+00,   0.00000000e+00, ...,\n",
       "          2.16092642e-04,   1.45670542e-04,   8.38163507e-05]),\n",
       " array([  0.00000000e+00,   0.00000000e+00,   0.00000000e+00, ...,\n",
       "          2.13464464e-04,   1.01278436e-04,   9.25652957e-05]),\n",
       " array([  0.00000000e+00,   0.00000000e+00,   0.00000000e+00, ...,\n",
       "          1.94720759e-04,   8.29483688e-05,   1.16312561e-04]),\n",
       " array([  0.00000000e+00,   0.00000000e+00,   0.00000000e+00, ...,\n",
       "          2.20138346e-04,   9.94621358e-05,   9.23794738e-05]),\n",
       " array([  0.00000000e+00,   0.00000000e+00,   0.00000000e+00, ...,\n",
       "          2.16754523e-04,   1.27676596e-04,   8.65020280e-05]),\n",
       " array([  0.00000000e+00,   0.00000000e+00,   0.00000000e+00, ...,\n",
       "          2.69276781e-04,   8.25281851e-05,   9.35820869e-05]),\n",
       " array([  1.74113128e-04,   0.00000000e+00,   0.00000000e+00, ...,\n",
       "          1.71902936e-04,   1.14429476e-04,   7.67297965e-05]),\n",
       " array([  0.00000000e+00,   0.00000000e+00,   0.00000000e+00, ...,\n",
       "          2.76690425e-04,   1.31721796e-04,   8.80419609e-05]),\n",
       " array([  0.00000000e+00,   0.00000000e+00,   0.00000000e+00, ...,\n",
       "          2.44240787e-04,   8.50124538e-05,   9.56486387e-05]),\n",
       " array([  0.00000000e+00,   0.00000000e+00,   0.00000000e+00, ...,\n",
       "          2.00305928e-04,   1.25656165e-04,   9.29831196e-05]),\n",
       " array([  0.00000000e+00,   0.00000000e+00,   0.00000000e+00, ...,\n",
       "          1.83282926e-04,   1.47220111e-04,   7.89853219e-05]),\n",
       " array([  0.00000000e+00,   0.00000000e+00,   0.00000000e+00, ...,\n",
       "          2.02081480e-04,   1.47602955e-04,   9.59351504e-05]),\n",
       " array([  0.00000000e+00,   0.00000000e+00,   0.00000000e+00, ...,\n",
       "          2.20265206e-04,   1.38994715e-04,   8.96768858e-05]),\n",
       " array([  0.00000000e+00,   2.32765703e-04,   0.00000000e+00, ...,\n",
       "          1.63744849e-04,   1.34271391e-04,   7.60632266e-05]),\n",
       " array([  0.00000000e+00,   0.00000000e+00,   0.00000000e+00, ...,\n",
       "          2.49105124e-04,   8.32739625e-05,   9.60564428e-05]),\n",
       " array([  0.00000000e+00,   0.00000000e+00,   0.00000000e+00, ...,\n",
       "          1.72682496e-04,   1.35875062e-04,   7.99896524e-05]),\n",
       " array([  0.00000000e+00,   0.00000000e+00,   0.00000000e+00, ...,\n",
       "          1.88179111e-04,   1.04754698e-04,   9.30664401e-05]),\n",
       " array([  0.00000000e+00,   0.00000000e+00,   0.00000000e+00, ...,\n",
       "          2.52702754e-04,   8.61209384e-05,   8.49277634e-05]),\n",
       " array([  0.00000000e+00,   0.00000000e+00,   0.00000000e+00, ...,\n",
       "          1.92064312e-04,   1.51261740e-04,   9.92517200e-05]),\n",
       " array([  0.00000000e+00,   0.00000000e+00,   6.01372645e-04, ...,\n",
       "          2.02623936e-04,   1.11192125e-04,   9.19916839e-05]),\n",
       " array([  0.00000000e+00,   0.00000000e+00,   0.00000000e+00, ...,\n",
       "          2.52539829e-04,   9.91611421e-05,   9.98666161e-05]),\n",
       " array([  0.00000000e+00,   0.00000000e+00,   0.00000000e+00, ...,\n",
       "          2.00512550e-04,   1.49560114e-04,   8.74332729e-05]),\n",
       " array([ 0.        ,  0.        ,  0.        , ...,  0.00025528,\n",
       "         0.00010363,  0.00010478])]"
      ]
     },
     "execution_count": 12,
     "metadata": {},
     "output_type": "execute_result"
    }
   ],
   "source": [
    "means"
   ]
  },
  {
   "cell_type": "markdown",
   "metadata": {},
   "source": [
    "**Initializing cluster weights**\n",
    "\n",
    "We will initialize each cluster weight to be the proportion of documents assigned to that cluster by k-means above."
   ]
  },
  {
   "cell_type": "code",
   "execution_count": 13,
   "metadata": {
    "collapsed": false
   },
   "outputs": [
    {
     "name": "stdout",
     "output_type": "stream",
     "text": [
      "256\n",
      "128\n",
      "159\n",
      "66\n",
      "50\n",
      "106\n",
      "391\n",
      "141\n",
      "838\n",
      "85\n",
      "98\n",
      "263\n",
      "133\n",
      "235\n",
      "240\n",
      "415\n",
      "84\n",
      "128\n",
      "83\n",
      "254\n",
      "91\n",
      "169\n",
      "70\n",
      "344\n",
      "173\n"
     ]
    }
   ],
   "source": [
    "num_docs = tf_idf.shape[0]\n",
    "weights = []\n",
    "for i in xrange(num_clusters):\n",
    "    # Compute the number of data points assigned to cluster i:\n",
    "    num_assigned = cluster_assignment[cluster_assignment==i].shape[0]\n",
    "    print(num_assigned)\n",
    "    w = float(num_assigned) / num_docs\n",
    "    weights.append(w)"
   ]
  },
  {
   "cell_type": "markdown",
   "metadata": {},
   "source": [
    "**Initializing covariances**\n",
    "\n",
    "To initialize our covariance parameters, we compute $\\hat{\\sigma}_{k, j}^2 = \\sum_{i=1}^{N}(x_{i,j} - \\hat{\\mu}_{k, j})^2$ for each feature $j$.  For features with really tiny variances, we assign 1e-8 instead to prevent numerical instability. We do this computation in a vectorized fashion in the following code block."
   ]
  },
  {
   "cell_type": "code",
   "execution_count": 14,
   "metadata": {
    "collapsed": false
   },
   "outputs": [],
   "source": [
    "covs = []\n",
    "for i in xrange(num_clusters):\n",
    "    member_rows = tf_idf[cluster_assignment==i]\n",
    "    cov = (member_rows.power(2) - 2*member_rows.dot(diag(means[i]))).sum(axis=0).A1 / member_rows.shape[0] \\\n",
    "          + means[i]**2\n",
    "    cov[cov < 1e-8] = 1e-8\n",
    "    covs.append(cov)"
   ]
  },
  {
   "cell_type": "markdown",
   "metadata": {},
   "source": [
    "**Running EM**\n",
    "\n",
    "Now that we have initialized all of our parameters, run EM."
   ]
  },
  {
   "cell_type": "code",
   "execution_count": 15,
   "metadata": {
    "collapsed": false,
    "scrolled": true
   },
   "outputs": [],
   "source": [
    "out = EM_for_high_dimension(tf_idf, means, covs, weights, cov_smoothing=1e-10)"
   ]
  },
  {
   "cell_type": "code",
   "execution_count": 16,
   "metadata": {
    "collapsed": false
   },
   "outputs": [
    {
     "data": {
      "text/plain": [
       "array([ 0.0512,  0.0256,  0.0318,  0.0132,  0.01  ,  0.0212,  0.0782,\n",
       "        0.0282,  0.1676,  0.017 ,  0.0196,  0.0526,  0.0266,  0.047 ,\n",
       "        0.048 ,  0.083 ,  0.0168,  0.0256,  0.0166,  0.0508,  0.0182,\n",
       "        0.0338,  0.014 ,  0.0688,  0.0346])"
      ]
     },
     "execution_count": 16,
     "metadata": {},
     "output_type": "execute_result"
    }
   ],
   "source": [
    "out['weights']"
   ]
  },
  {
   "cell_type": "code",
   "execution_count": 17,
   "metadata": {
    "collapsed": false
   },
   "outputs": [
    {
     "data": {
      "text/plain": [
       "[array([  0.00000000e+00,   0.00000000e+00,   0.00000000e+00, ...,\n",
       "          2.01954039e-04,   1.04447276e-04,   9.87192763e-05]),\n",
       " array([  0.00000000e+00,   0.00000000e+00,   0.00000000e+00, ...,\n",
       "          1.98056588e-04,   1.43796792e-04,   8.95769954e-05]),\n",
       " array([  0.00000000e+00,   0.00000000e+00,   0.00000000e+00, ...,\n",
       "          2.16092642e-04,   1.45670542e-04,   8.38163507e-05]),\n",
       " array([  0.00000000e+00,   0.00000000e+00,   0.00000000e+00, ...,\n",
       "          2.13464464e-04,   1.01278436e-04,   9.25652957e-05]),\n",
       " array([  0.00000000e+00,   0.00000000e+00,   0.00000000e+00, ...,\n",
       "          1.94720759e-04,   8.29483688e-05,   1.16312561e-04]),\n",
       " array([  0.00000000e+00,   0.00000000e+00,   0.00000000e+00, ...,\n",
       "          2.20138346e-04,   9.94621358e-05,   9.23794738e-05]),\n",
       " array([  0.00000000e+00,   0.00000000e+00,   0.00000000e+00, ...,\n",
       "          2.16754523e-04,   1.27676596e-04,   8.65020280e-05]),\n",
       " array([  0.00000000e+00,   0.00000000e+00,   0.00000000e+00, ...,\n",
       "          2.69276781e-04,   8.25281851e-05,   9.35820869e-05]),\n",
       " array([  1.74113128e-04,   0.00000000e+00,   0.00000000e+00, ...,\n",
       "          1.71902936e-04,   1.14429476e-04,   7.67297965e-05]),\n",
       " array([  0.00000000e+00,   0.00000000e+00,   0.00000000e+00, ...,\n",
       "          2.76690425e-04,   1.31721796e-04,   8.80419609e-05]),\n",
       " array([  0.00000000e+00,   0.00000000e+00,   0.00000000e+00, ...,\n",
       "          2.44240787e-04,   8.50124538e-05,   9.56486387e-05]),\n",
       " array([  0.00000000e+00,   0.00000000e+00,   0.00000000e+00, ...,\n",
       "          2.00305928e-04,   1.25656165e-04,   9.29831196e-05]),\n",
       " array([  0.00000000e+00,   0.00000000e+00,   0.00000000e+00, ...,\n",
       "          1.83282926e-04,   1.47220111e-04,   7.89853219e-05]),\n",
       " array([  0.00000000e+00,   0.00000000e+00,   0.00000000e+00, ...,\n",
       "          2.02081480e-04,   1.47602955e-04,   9.59351504e-05]),\n",
       " array([  0.00000000e+00,   0.00000000e+00,   0.00000000e+00, ...,\n",
       "          2.20265206e-04,   1.38994715e-04,   8.96768858e-05]),\n",
       " array([  0.00000000e+00,   2.32765703e-04,   0.00000000e+00, ...,\n",
       "          1.63744849e-04,   1.34271391e-04,   7.60632266e-05]),\n",
       " array([  0.00000000e+00,   0.00000000e+00,   0.00000000e+00, ...,\n",
       "          2.49105124e-04,   8.32739625e-05,   9.60564428e-05]),\n",
       " array([  0.00000000e+00,   0.00000000e+00,   0.00000000e+00, ...,\n",
       "          1.72682496e-04,   1.35875062e-04,   7.99896524e-05]),\n",
       " array([  0.00000000e+00,   0.00000000e+00,   0.00000000e+00, ...,\n",
       "          1.88179111e-04,   1.04754698e-04,   9.30664401e-05]),\n",
       " array([  0.00000000e+00,   0.00000000e+00,   0.00000000e+00, ...,\n",
       "          2.52702754e-04,   8.61209384e-05,   8.49277634e-05]),\n",
       " array([  0.00000000e+00,   0.00000000e+00,   0.00000000e+00, ...,\n",
       "          1.92064312e-04,   1.51261740e-04,   9.92517200e-05]),\n",
       " array([  0.00000000e+00,   0.00000000e+00,   6.01372645e-04, ...,\n",
       "          2.02623936e-04,   1.11192125e-04,   9.19916839e-05]),\n",
       " array([  0.00000000e+00,   0.00000000e+00,   0.00000000e+00, ...,\n",
       "          2.52539829e-04,   9.91611421e-05,   9.98666161e-05]),\n",
       " array([  0.00000000e+00,   0.00000000e+00,   0.00000000e+00, ...,\n",
       "          2.00512550e-04,   1.49560114e-04,   8.74332729e-05]),\n",
       " array([ 0.        ,  0.        ,  0.        , ...,  0.00025528,\n",
       "         0.00010363,  0.00010478])]"
      ]
     },
     "execution_count": 17,
     "metadata": {},
     "output_type": "execute_result"
    }
   ],
   "source": [
    "out['means']"
   ]
  },
  {
   "cell_type": "code",
   "execution_count": 18,
   "metadata": {
    "collapsed": false
   },
   "outputs": [
    {
     "data": {
      "text/plain": [
       "[array([  1.00000000e-10,   1.00000000e-10,   1.00000000e-10, ...,\n",
       "          6.54974156e-09,   2.04356034e-09,   9.30708271e-10]),\n",
       " array([  1.00000000e-10,   1.00000000e-10,   1.00000000e-10, ...,\n",
       "          9.62690696e-09,   2.85554773e-09,   1.18857247e-09]),\n",
       " array([  1.00000000e-10,   1.00000000e-10,   1.00000000e-10, ...,\n",
       "          9.53783719e-09,   2.87326225e-09,   9.37484239e-10]),\n",
       " array([  1.00000000e-10,   1.00000000e-10,   1.00000000e-10, ...,\n",
       "          6.40073833e-09,   1.29138867e-09,   8.31447992e-10]),\n",
       " array([  1.00000000e-10,   1.00000000e-10,   1.00000000e-10, ...,\n",
       "          9.24243132e-09,   1.30569398e-09,   8.54579171e-10]),\n",
       " array([  1.00000000e-10,   1.00000000e-10,   1.00000000e-10, ...,\n",
       "          6.39109141e-09,   2.96306968e-09,   7.05369695e-10]),\n",
       " array([  1.00000000e-10,   1.00000000e-10,   1.00000000e-10, ...,\n",
       "          7.72856339e-09,   3.03385166e-09,   1.04580156e-09]),\n",
       " array([  1.00000000e-10,   1.00000000e-10,   1.00000000e-10, ...,\n",
       "          8.56969383e-09,   1.74573394e-09,   8.92417015e-10]),\n",
       " array([  2.53740742e-05,   1.00000000e-10,   1.00000000e-10, ...,\n",
       "          6.30637820e-09,   2.48012290e-09,   9.88060471e-10]),\n",
       " array([  1.00000000e-10,   1.00000000e-10,   1.00000000e-10, ...,\n",
       "          1.12329441e-08,   2.04226520e-09,   8.38106389e-10]),\n",
       " array([  1.00000000e-10,   1.00000000e-10,   1.00000000e-10, ...,\n",
       "          8.29120992e-09,   1.61901789e-09,   1.42239294e-09]),\n",
       " array([  1.00000000e-10,   1.00000000e-10,   1.00000000e-10, ...,\n",
       "          8.22012862e-09,   2.92486914e-09,   1.07205002e-09]),\n",
       " array([  1.00000000e-10,   1.00000000e-10,   1.00000000e-10, ...,\n",
       "          5.17255356e-09,   3.30860769e-09,   1.04389739e-09]),\n",
       " array([  1.00000000e-10,   1.00000000e-10,   1.00000000e-10, ...,\n",
       "          6.63507444e-09,   3.54026727e-09,   1.27859293e-09]),\n",
       " array([  1.00000000e-10,   1.00000000e-10,   1.00000000e-10, ...,\n",
       "          1.19091752e-08,   2.89026809e-09,   1.05997780e-09]),\n",
       " array([  1.00000000e-10,   2.24305671e-05,   1.00000000e-10, ...,\n",
       "          5.58802142e-09,   2.62378741e-09,   9.36520903e-10]),\n",
       " array([  1.00000000e-10,   1.00000000e-10,   1.00000000e-10, ...,\n",
       "          5.82438980e-09,   1.21142614e-09,   9.65773989e-10]),\n",
       " array([  1.00000000e-10,   1.00000000e-10,   1.00000000e-10, ...,\n",
       "          7.61409736e-09,   3.03217115e-09,   1.12186787e-09]),\n",
       " array([  1.00000000e-10,   1.00000000e-10,   1.00000000e-10, ...,\n",
       "          4.40410237e-09,   1.55194603e-09,   7.44295337e-10]),\n",
       " array([  1.00000000e-10,   1.00000000e-10,   1.00000000e-10, ...,\n",
       "          8.75263404e-09,   1.43081791e-09,   9.56085487e-10]),\n",
       " array([  1.00000000e-10,   1.00000000e-10,   1.00000000e-10, ...,\n",
       "          7.89596105e-09,   3.47320419e-09,   1.13168794e-09]),\n",
       " array([  1.00000000e-10,   1.00000000e-10,   6.07571418e-05, ...,\n",
       "          6.43601009e-09,   2.95670798e-09,   1.39956952e-09]),\n",
       " array([  1.00000000e-10,   1.00000000e-10,   1.00000000e-10, ...,\n",
       "          5.09530879e-09,   1.31592341e-09,   8.64311494e-10]),\n",
       " array([  1.00000000e-10,   1.00000000e-10,   1.00000000e-10, ...,\n",
       "          7.88514869e-09,   3.32681971e-09,   1.12943989e-09]),\n",
       " array([  1.00000000e-10,   1.00000000e-10,   1.00000000e-10, ...,\n",
       "          6.98021820e-09,   1.71498892e-09,   9.14351862e-10])]"
      ]
     },
     "execution_count": 18,
     "metadata": {},
     "output_type": "execute_result"
    }
   ],
   "source": [
    "out['covs']"
   ]
  },
  {
   "cell_type": "code",
   "execution_count": 19,
   "metadata": {
    "collapsed": false
   },
   "outputs": [
    {
     "data": {
      "text/plain": [
       "[3855847476.7012835, 4844053202.46348, 4844053202.46348]"
      ]
     },
     "execution_count": 19,
     "metadata": {},
     "output_type": "execute_result"
    }
   ],
   "source": [
    "out['loglik']"
   ]
  },
  {
   "cell_type": "code",
   "execution_count": 20,
   "metadata": {
    "collapsed": false
   },
   "outputs": [
    {
     "data": {
      "text/plain": [
       "array([[ 0.,  0.,  0., ...,  1.,  0.,  0.],\n",
       "       [ 0.,  0.,  0., ...,  0.,  1.,  0.],\n",
       "       [ 0.,  0.,  0., ...,  0.,  0.,  0.],\n",
       "       ..., \n",
       "       [ 0.,  0.,  1., ...,  0.,  0.,  0.],\n",
       "       [ 0.,  0.,  1., ...,  0.,  0.,  0.],\n",
       "       [ 0.,  0.,  0., ...,  0.,  0.,  0.]])"
      ]
     },
     "execution_count": 20,
     "metadata": {},
     "output_type": "execute_result"
    }
   ],
   "source": [
    "out['resp']"
   ]
  },
  {
   "cell_type": "markdown",
   "metadata": {},
   "source": [
    "## Interpret clustering results"
   ]
  },
  {
   "cell_type": "markdown",
   "metadata": {},
   "source": [
    "In contrast to k-means, EM is able to explicitly model clusters of varying sizes and proportions. The relative magnitude of variances in the word dimensions tell us much about the nature of the clusters.\n",
    "\n",
    "Write yourself a cluster visualizer as follows.  Examining each cluster's mean vector, list the 5 words with the largest mean values (5 most common words in the cluster). For each word, also include the associated variance parameter (diagonal element of the covariance matrix). \n",
    "\n",
    "A sample output may be:\n",
    "```\n",
    "==========================================================\n",
    "Cluster 0: Largest mean parameters in cluster \n",
    "\n",
    "Word        Mean        Variance    \n",
    "football    1.08e-01    8.64e-03\n",
    "season      5.80e-02    2.93e-03\n",
    "club        4.48e-02    1.99e-03\n",
    "league      3.94e-02    1.08e-03\n",
    "played      3.83e-02    8.45e-04\n",
    "...\n",
    "```"
   ]
  },
  {
   "cell_type": "code",
   "execution_count": 23,
   "metadata": {
    "collapsed": true
   },
   "outputs": [],
   "source": [
    "# Fill in the blanks\n",
    "def visualize_EM_clusters(tf_idf, means, covs, map_index_to_word):\n",
    "    print('')\n",
    "    print('==========================================================')\n",
    "\n",
    "    num_clusters = len(means)\n",
    "    \n",
    "    for c in xrange(num_clusters):\n",
    "        print('Cluster {0:d}: Largest mean parameters in cluster '.format(c))\n",
    "        print('\\n{0: <12}{1: <12}{2: <12}'.format('Word', 'Mean', 'Variance'))\n",
    "        \n",
    "        # The k'th element of sorted_word_ids should be the index of the word \n",
    "        # that has the k'th-largest value in the cluster mean. Hint: Use np.argsort().\n",
    "        sorted_word_ids = np.argsort(means[c])\n",
    "        reversed_sorted_word_ids = sorted_word_ids[::-1]\n",
    "\n",
    "        for i in reversed_sorted_word_ids[0:5,]:\n",
    "            print '{0: <12}{1:<10.2e}{2:10.2e}'.format(map_index_to_word[i]['category'], \n",
    "                                                       means[c][i],\n",
    "                                                       covs[c][i])\n",
    "        print '\\n=========================================================='"
   ]
  },
  {
   "cell_type": "code",
   "execution_count": 24,
   "metadata": {
    "collapsed": false
   },
   "outputs": [
    {
     "name": "stdout",
     "output_type": "stream",
     "text": [
      "\n",
      "==========================================================\n",
      "Cluster 0: Largest mean parameters in cluster \n",
      "\n",
      "Word        Mean        Variance    \n",
      "minister    7.57e-02    7.42e-03\n",
      "election    5.89e-02    3.21e-03\n",
      "party       5.89e-02    2.61e-03\n",
      "liberal     2.93e-02    4.55e-03\n",
      "elected     2.91e-02    8.95e-04\n",
      "\n",
      "==========================================================\n",
      "Cluster 1: Largest mean parameters in cluster \n",
      "\n",
      "Word        Mean        Variance    \n",
      "film        1.76e-01    6.07e-03\n",
      "films       5.50e-02    2.97e-03\n",
      "festival    4.66e-02    3.60e-03\n",
      "feature     3.69e-02    1.81e-03\n",
      "directed    3.39e-02    2.22e-03\n",
      "\n",
      "==========================================================\n",
      "Cluster 2: Largest mean parameters in cluster \n",
      "\n",
      "Word        Mean        Variance    \n",
      "art         1.26e-01    6.83e-03\n",
      "museum      5.62e-02    7.27e-03\n",
      "gallery     3.65e-02    3.40e-03\n",
      "artist      3.61e-02    1.44e-03\n",
      "design      3.20e-02    4.59e-03\n",
      "\n",
      "==========================================================\n",
      "Cluster 3: Largest mean parameters in cluster \n",
      "\n",
      "Word        Mean        Variance    \n",
      "basketball  1.86e-01    7.78e-03\n",
      "nba         1.01e-01    1.22e-02\n",
      "points      6.25e-02    5.92e-03\n",
      "coach       5.57e-02    5.91e-03\n",
      "team        4.68e-02    1.30e-03\n",
      "\n",
      "==========================================================\n",
      "Cluster 4: Largest mean parameters in cluster \n",
      "\n",
      "Word        Mean        Variance    \n",
      "hockey      2.45e-01    1.64e-02\n",
      "nhl         1.56e-01    1.64e-02\n",
      "ice         6.40e-02    2.97e-03\n",
      "season      5.05e-02    2.52e-03\n",
      "league      4.31e-02    1.53e-03\n",
      "\n",
      "==========================================================\n",
      "Cluster 5: Largest mean parameters in cluster \n",
      "\n",
      "Word        Mean        Variance    \n",
      "republican  7.93e-02    5.20e-03\n",
      "senate      5.41e-02    6.28e-03\n",
      "house       4.64e-02    2.41e-03\n",
      "district    4.60e-02    2.37e-03\n",
      "democratic  4.46e-02    3.02e-03\n",
      "\n",
      "==========================================================\n",
      "Cluster 6: Largest mean parameters in cluster \n",
      "\n",
      "Word        Mean        Variance    \n",
      "she         1.60e-01    4.65e-03\n",
      "her         1.00e-01    3.14e-03\n",
      "miss        2.22e-02    7.76e-03\n",
      "women       1.43e-02    1.36e-03\n",
      "womens      1.21e-02    1.46e-03\n",
      "\n",
      "==========================================================\n",
      "Cluster 7: Largest mean parameters in cluster \n",
      "\n",
      "Word        Mean        Variance    \n",
      "championships7.78e-02    5.17e-03\n",
      "m           4.70e-02    7.58e-03\n",
      "olympics    4.69e-02    2.59e-03\n",
      "medal       4.28e-02    2.44e-03\n",
      "she         4.18e-02    5.99e-03\n",
      "\n",
      "==========================================================\n",
      "Cluster 8: Largest mean parameters in cluster \n",
      "\n",
      "Word        Mean        Variance    \n",
      "book        1.45e-02    9.38e-04\n",
      "published   1.23e-02    6.16e-04\n",
      "that        1.10e-02    1.73e-04\n",
      "novel       1.07e-02    1.43e-03\n",
      "he          1.04e-02    6.05e-05\n",
      "\n",
      "==========================================================\n",
      "Cluster 9: Largest mean parameters in cluster \n",
      "\n",
      "Word        Mean        Variance    \n",
      "she         1.37e-01    4.25e-03\n",
      "her         8.99e-02    2.74e-03\n",
      "actress     7.65e-02    4.29e-03\n",
      "film        5.98e-02    3.44e-03\n",
      "drama       5.03e-02    6.40e-03\n",
      "\n",
      "==========================================================\n",
      "Cluster 10: Largest mean parameters in cluster \n",
      "\n",
      "Word        Mean        Variance    \n",
      "soccer      1.15e-01    2.86e-02\n",
      "chess       4.52e-02    1.66e-02\n",
      "team        4.13e-02    2.15e-03\n",
      "coach       3.09e-02    4.45e-03\n",
      "league      3.07e-02    2.01e-03\n",
      "\n",
      "==========================================================\n",
      "Cluster 11: Largest mean parameters in cluster \n",
      "\n",
      "Word        Mean        Variance    \n",
      "president   2.52e-02    1.29e-03\n",
      "chairman    2.44e-02    1.97e-03\n",
      "committee   2.34e-02    2.38e-03\n",
      "served      2.24e-02    6.99e-04\n",
      "executive   2.15e-02    1.23e-03\n",
      "\n",
      "==========================================================\n",
      "Cluster 12: Largest mean parameters in cluster \n",
      "\n",
      "Word        Mean        Variance    \n",
      "music       7.26e-02    3.48e-03\n",
      "jazz        6.07e-02    1.14e-02\n",
      "hong        3.78e-02    9.92e-03\n",
      "kong        3.50e-02    8.64e-03\n",
      "chinese     3.12e-02    5.33e-03\n",
      "\n",
      "==========================================================\n",
      "Cluster 13: Largest mean parameters in cluster \n",
      "\n",
      "Word        Mean        Variance    \n",
      "university  3.47e-02    8.89e-04\n",
      "history     3.38e-02    2.81e-03\n",
      "philosophy  2.86e-02    5.35e-03\n",
      "professor   2.74e-02    1.08e-03\n",
      "studies     2.41e-02    1.95e-03\n",
      "\n",
      "==========================================================\n",
      "Cluster 14: Largest mean parameters in cluster \n",
      "\n",
      "Word        Mean        Variance    \n",
      "theatre     4.93e-02    6.17e-03\n",
      "actor       3.56e-02    2.91e-03\n",
      "television  3.21e-02    1.67e-03\n",
      "film        2.93e-02    1.16e-03\n",
      "comedy      2.86e-02    3.91e-03\n",
      "\n",
      "==========================================================\n",
      "Cluster 15: Largest mean parameters in cluster \n",
      "\n",
      "Word        Mean        Variance    \n",
      "album       6.76e-02    4.78e-03\n",
      "band        5.35e-02    4.21e-03\n",
      "music       4.18e-02    1.96e-03\n",
      "released    3.13e-02    1.11e-03\n",
      "song        2.50e-02    1.81e-03\n",
      "\n",
      "==========================================================\n",
      "Cluster 16: Largest mean parameters in cluster \n",
      "\n",
      "Word        Mean        Variance    \n",
      "tour        1.14e-01    1.92e-02\n",
      "pga         1.08e-01    2.65e-02\n",
      "racing      8.45e-02    8.26e-03\n",
      "championship6.27e-02    4.54e-03\n",
      "formula     6.06e-02    1.31e-02\n",
      "\n",
      "==========================================================\n",
      "Cluster 17: Largest mean parameters in cluster \n",
      "\n",
      "Word        Mean        Variance    \n",
      "news        5.76e-02    8.06e-03\n",
      "radio       5.18e-02    4.62e-03\n",
      "show        3.75e-02    2.56e-03\n",
      "bbc         3.63e-02    7.41e-03\n",
      "chef        3.27e-02    1.18e-02\n",
      "\n",
      "==========================================================\n",
      "Cluster 18: Largest mean parameters in cluster \n",
      "\n",
      "Word        Mean        Variance    \n",
      "football    1.11e-01    5.60e-03\n",
      "yards       7.37e-02    1.72e-02\n",
      "nfl         6.98e-02    9.15e-03\n",
      "coach       6.74e-02    7.85e-03\n",
      "quarterback 4.02e-02    7.16e-03\n",
      "\n",
      "==========================================================\n",
      "Cluster 19: Largest mean parameters in cluster \n",
      "\n",
      "Word        Mean        Variance    \n",
      "league      5.21e-02    3.13e-03\n",
      "club        5.04e-02    2.64e-03\n",
      "season      4.77e-02    2.30e-03\n",
      "rugby       4.35e-02    8.18e-03\n",
      "cup         4.22e-02    2.46e-03\n",
      "\n",
      "==========================================================\n",
      "Cluster 20: Largest mean parameters in cluster \n",
      "\n",
      "Word        Mean        Variance    \n",
      "orchestra   1.31e-01    1.06e-02\n",
      "music       1.23e-01    6.15e-03\n",
      "symphony    8.70e-02    1.08e-02\n",
      "conductor   8.16e-02    1.01e-02\n",
      "philharmonic4.96e-02    3.27e-03\n",
      "\n",
      "==========================================================\n",
      "Cluster 21: Largest mean parameters in cluster \n",
      "\n",
      "Word        Mean        Variance    \n",
      "law         9.52e-02    8.35e-03\n",
      "court       6.84e-02    5.24e-03\n",
      "judge       4.59e-02    4.44e-03\n",
      "attorney    3.74e-02    4.30e-03\n",
      "district    3.72e-02    4.20e-03\n",
      "\n",
      "==========================================================\n",
      "Cluster 22: Largest mean parameters in cluster \n",
      "\n",
      "Word        Mean        Variance    \n",
      "football    1.21e-01    6.14e-03\n",
      "afl         9.58e-02    1.31e-02\n",
      "australian  7.91e-02    1.58e-03\n",
      "club        5.93e-02    1.76e-03\n",
      "season      5.58e-02    1.83e-03\n",
      "\n",
      "==========================================================\n",
      "Cluster 23: Largest mean parameters in cluster \n",
      "\n",
      "Word        Mean        Variance    \n",
      "research    5.70e-02    2.68e-03\n",
      "science     3.50e-02    2.95e-03\n",
      "university  3.34e-02    7.14e-04\n",
      "professor   3.20e-02    1.26e-03\n",
      "physics     2.61e-02    5.43e-03\n",
      "\n",
      "==========================================================\n",
      "Cluster 24: Largest mean parameters in cluster \n",
      "\n",
      "Word        Mean        Variance    \n",
      "baseball    1.16e-01    5.57e-03\n",
      "league      1.03e-01    3.63e-03\n",
      "major       5.09e-02    1.19e-03\n",
      "games       4.66e-02    1.93e-03\n",
      "sox         4.55e-02    6.28e-03\n",
      "\n",
      "==========================================================\n"
     ]
    }
   ],
   "source": [
    "'''By EM'''\n",
    "visualize_EM_clusters(tf_idf, out['means'], out['covs'], map_index_to_word)"
   ]
  },
  {
   "cell_type": "markdown",
   "metadata": {},
   "source": [
    "**Quiz Question**. Select all the topics that have a cluster in the model created above. [multiple choice]"
   ]
  },
  {
   "cell_type": "markdown",
   "metadata": {
    "collapsed": true
   },
   "source": [
    "Baseball, Basketball, Soccer/Football, Music, Politics, Law"
   ]
  },
  {
   "cell_type": "markdown",
   "metadata": {},
   "source": [
    "## Comparing to random initialization"
   ]
  },
  {
   "cell_type": "markdown",
   "metadata": {
    "collapsed": false
   },
   "source": [
    "Create variables for randomly initializing the EM algorithm. Complete the following code block."
   ]
  },
  {
   "cell_type": "code",
   "execution_count": 27,
   "metadata": {
    "collapsed": true
   },
   "outputs": [],
   "source": [
    "np.random.seed(5)\n",
    "num_clusters = len(means)\n",
    "num_docs, num_words = tf_idf.shape\n",
    "\n",
    "random_means = []\n",
    "random_covs = []\n",
    "random_weights = []\n",
    "\n",
    "for k in range(num_clusters):\n",
    "    \n",
    "    # Create a numpy array of length num_words with random normally distributed values.\n",
    "    # Use the standard univariate normal distribution (mean 0, variance 1).\n",
    "    # YOUR CODE HERE\n",
    "    mean = np.random.normal(0, 1, num_words)\n",
    "    \n",
    "    # Create a numpy array of length num_words with random values uniformly distributed between 1 and 5.\n",
    "    # YOUR CODE HERE\n",
    "    cov = np.random.uniform(3, 2, num_words)\n",
    "\n",
    "    # Initially give each cluster equal weight.\n",
    "    # YOUR CODE HERE\n",
    "    weight = 0.5\n",
    "    \n",
    "    random_means.append(mean)\n",
    "    random_covs.append(cov)\n",
    "    random_weights.append(weight)"
   ]
  },
  {
   "cell_type": "markdown",
   "metadata": {},
   "source": [
    "**Quiz Question**: Try fitting EM with the random initial parameters you created above. (Use `cov_smoothing=1e-5`.) Store the result to `out_random_init`. What is the final loglikelihood that the algorithm converges to? "
   ]
  },
  {
   "cell_type": "code",
   "execution_count": 28,
   "metadata": {
    "collapsed": false
   },
   "outputs": [],
   "source": [
    "out_random_init = EM_for_high_dimension(tf_idf, random_means, random_covs, random_weights, cov_smoothing=1e-5)"
   ]
  },
  {
   "cell_type": "code",
   "execution_count": 29,
   "metadata": {
    "collapsed": false
   },
   "outputs": [
    {
     "data": {
      "text/plain": [
       "[-739175425.35147691,\n",
       " 2282580113.3759818,\n",
       " 2362963898.7389302,\n",
       " 2363163165.502697,\n",
       " 2363163165.502697]"
      ]
     },
     "execution_count": 29,
     "metadata": {},
     "output_type": "execute_result"
    }
   ],
   "source": [
    "out_random_init['loglik']"
   ]
  },
  {
   "cell_type": "markdown",
   "metadata": {},
   "source": [
    "**Quiz Question:** Is the final loglikelihood larger or smaller than the final loglikelihood we obtained above when initializing EM with the results from running k-means?"
   ]
  },
  {
   "cell_type": "markdown",
   "metadata": {
    "collapsed": true
   },
   "source": [
    "Smaller"
   ]
  },
  {
   "cell_type": "markdown",
   "metadata": {},
   "source": [
    "**Quiz Question**: For the above model, `out_random_init`, use the `visualize_EM_clusters` method you created above. Are the clusters more or less interpretable than the ones found after initializing using k-means?"
   ]
  },
  {
   "cell_type": "markdown",
   "metadata": {},
   "source": [
    "Less interpretable"
   ]
  },
  {
   "cell_type": "code",
   "execution_count": 30,
   "metadata": {
    "collapsed": false
   },
   "outputs": [
    {
     "name": "stdout",
     "output_type": "stream",
     "text": [
      "\n",
      "==========================================================\n",
      "Cluster 0: Largest mean parameters in cluster \n",
      "\n",
      "Word        Mean        Variance    \n",
      "she         2.89e-02    4.10e-03\n",
      "her         1.70e-02    1.56e-03\n",
      "rugby       1.52e-02    3.54e-03\n",
      "music       1.17e-02    1.25e-03\n",
      "he          1.11e-02    1.01e-04\n",
      "\n",
      "==========================================================\n",
      "Cluster 1: Largest mean parameters in cluster \n",
      "\n",
      "Word        Mean        Variance    \n",
      "coach       1.44e-02    2.59e-03\n",
      "he          1.40e-02    1.08e-04\n",
      "team        1.18e-02    6.68e-04\n",
      "she         1.10e-02    1.08e-03\n",
      "season      1.09e-02    7.88e-04\n",
      "\n",
      "==========================================================\n",
      "Cluster 2: Largest mean parameters in cluster \n",
      "\n",
      "Word        Mean        Variance    \n",
      "she         3.12e-02    4.13e-03\n",
      "her         2.09e-02    2.21e-03\n",
      "music       1.72e-02    1.61e-03\n",
      "soccer      1.63e-02    8.08e-03\n",
      "league      1.16e-02    9.55e-04\n",
      "\n",
      "==========================================================\n",
      "Cluster 3: Largest mean parameters in cluster \n",
      "\n",
      "Word        Mean        Variance    \n",
      "she         2.78e-02    3.86e-03\n",
      "her         1.81e-02    1.73e-03\n",
      "film        1.12e-02    1.21e-03\n",
      "he          1.11e-02    1.01e-04\n",
      "news        1.09e-02    2.21e-03\n",
      "\n",
      "==========================================================\n",
      "Cluster 4: Largest mean parameters in cluster \n",
      "\n",
      "Word        Mean        Variance    \n",
      "she         2.57e-02    3.36e-03\n",
      "her         1.51e-02    1.50e-03\n",
      "he          1.17e-02    1.06e-04\n",
      "music       1.09e-02    8.50e-04\n",
      "university  1.06e-02    2.71e-04\n",
      "\n",
      "==========================================================\n",
      "Cluster 5: Largest mean parameters in cluster \n",
      "\n",
      "Word        Mean        Variance    \n",
      "she         2.73e-02    3.29e-03\n",
      "league      2.64e-02    3.08e-03\n",
      "her         2.14e-02    2.18e-03\n",
      "season      1.90e-02    1.20e-03\n",
      "baseball    1.86e-02    2.41e-03\n",
      "\n",
      "==========================================================\n",
      "Cluster 6: Largest mean parameters in cluster \n",
      "\n",
      "Word        Mean        Variance    \n",
      "she         3.30e-02    3.80e-03\n",
      "her         3.10e-02    3.00e-03\n",
      "air         1.10e-02    3.90e-03\n",
      "album       1.10e-02    1.34e-03\n",
      "he          1.04e-02    9.10e-05\n",
      "\n",
      "==========================================================\n",
      "Cluster 7: Largest mean parameters in cluster \n",
      "\n",
      "Word        Mean        Variance    \n",
      "she         2.80e-02    3.90e-03\n",
      "her         1.63e-02    1.39e-03\n",
      "university  1.35e-02    4.77e-04\n",
      "music       1.31e-02    1.58e-03\n",
      "art         1.24e-02    2.34e-03\n",
      "\n",
      "==========================================================\n",
      "Cluster 8: Largest mean parameters in cluster \n",
      "\n",
      "Word        Mean        Variance    \n",
      "she         2.44e-02    3.34e-03\n",
      "her         1.68e-02    1.89e-03\n",
      "league      1.47e-02    1.59e-03\n",
      "music       1.37e-02    1.77e-03\n",
      "he          1.26e-02    1.27e-04\n",
      "\n",
      "==========================================================\n",
      "Cluster 9: Largest mean parameters in cluster \n",
      "\n",
      "Word        Mean        Variance    \n",
      "research    1.56e-02    1.75e-03\n",
      "she         1.50e-02    1.49e-03\n",
      "her         1.45e-02    1.70e-03\n",
      "he          1.39e-02    1.21e-04\n",
      "university  1.36e-02    6.03e-04\n",
      "\n",
      "==========================================================\n",
      "Cluster 10: Largest mean parameters in cluster \n",
      "\n",
      "Word        Mean        Variance    \n",
      "she         2.58e-02    3.39e-03\n",
      "her         1.67e-02    1.42e-03\n",
      "he          1.34e-02    1.18e-04\n",
      "party       1.22e-02    1.10e-03\n",
      "district    1.17e-02    1.29e-03\n",
      "\n",
      "==========================================================\n",
      "Cluster 11: Largest mean parameters in cluster \n",
      "\n",
      "Word        Mean        Variance    \n",
      "she         1.70e-02    1.93e-03\n",
      "her         1.28e-02    1.43e-03\n",
      "he          1.25e-02    1.13e-04\n",
      "music       1.09e-02    7.00e-04\n",
      "season      1.06e-02    8.04e-04\n",
      "\n",
      "==========================================================\n",
      "Cluster 12: Largest mean parameters in cluster \n",
      "\n",
      "Word        Mean        Variance    \n",
      "she         2.69e-02    3.65e-03\n",
      "her         1.85e-02    1.69e-03\n",
      "film        1.63e-02    2.17e-03\n",
      "he          1.31e-02    1.28e-04\n",
      "award       1.12e-02    8.34e-04\n",
      "\n",
      "==========================================================\n",
      "Cluster 13: Largest mean parameters in cluster \n",
      "\n",
      "Word        Mean        Variance    \n",
      "she         1.77e-02    2.94e-03\n",
      "art         1.46e-02    2.83e-03\n",
      "university  1.28e-02    4.96e-04\n",
      "he          1.26e-02    9.76e-05\n",
      "has         1.06e-02    1.04e-04\n",
      "\n",
      "==========================================================\n",
      "Cluster 14: Largest mean parameters in cluster \n",
      "\n",
      "Word        Mean        Variance    \n",
      "she         1.57e-02    2.23e-03\n",
      "he          1.18e-02    8.66e-05\n",
      "music       1.09e-02    1.20e-03\n",
      "her         1.08e-02    8.95e-04\n",
      "hong        1.06e-02    3.24e-03\n",
      "\n",
      "==========================================================\n",
      "Cluster 15: Largest mean parameters in cluster \n",
      "\n",
      "Word        Mean        Variance    \n",
      "she         2.22e-02    3.74e-03\n",
      "film        1.77e-02    2.65e-03\n",
      "her         1.36e-02    1.25e-03\n",
      "league      1.31e-02    1.36e-03\n",
      "music       1.29e-02    1.30e-03\n",
      "\n",
      "==========================================================\n",
      "Cluster 16: Largest mean parameters in cluster \n",
      "\n",
      "Word        Mean        Variance    \n",
      "pba         1.50e-02    9.96e-03\n",
      "film        1.48e-02    2.34e-03\n",
      "her         1.32e-02    1.80e-03\n",
      "air         1.26e-02    6.57e-03\n",
      "album       1.25e-02    1.78e-03\n",
      "\n",
      "==========================================================\n",
      "Cluster 17: Largest mean parameters in cluster \n",
      "\n",
      "Word        Mean        Variance    \n",
      "she         2.18e-02    3.18e-03\n",
      "league      1.69e-02    1.88e-03\n",
      "music       1.60e-02    1.20e-03\n",
      "he          1.40e-02    1.18e-04\n",
      "orchestra   1.32e-02    2.99e-03\n",
      "\n",
      "==========================================================\n",
      "Cluster 18: Largest mean parameters in cluster \n",
      "\n",
      "Word        Mean        Variance    \n",
      "she         2.24e-02    3.46e-03\n",
      "he          1.43e-02    1.18e-04\n",
      "her         1.36e-02    1.24e-03\n",
      "music       1.22e-02    1.54e-03\n",
      "championship1.18e-02    1.50e-03\n",
      "\n",
      "==========================================================\n",
      "Cluster 19: Largest mean parameters in cluster \n",
      "\n",
      "Word        Mean        Variance    \n",
      "she         2.66e-02    3.74e-03\n",
      "her         1.34e-02    1.15e-03\n",
      "university  1.32e-02    4.28e-04\n",
      "he          1.22e-02    1.14e-04\n",
      "law         9.79e-03    1.38e-03\n",
      "\n",
      "==========================================================\n",
      "Cluster 20: Largest mean parameters in cluster \n",
      "\n",
      "Word        Mean        Variance    \n",
      "she         2.25e-02    3.41e-03\n",
      "minister    1.26e-02    2.55e-03\n",
      "football    1.25e-02    1.79e-03\n",
      "he          1.21e-02    9.52e-05\n",
      "music       1.19e-02    1.77e-03\n",
      "\n",
      "==========================================================\n",
      "Cluster 21: Largest mean parameters in cluster \n",
      "\n",
      "Word        Mean        Variance    \n",
      "she         1.64e-02    2.67e-03\n",
      "he          1.40e-02    9.38e-05\n",
      "university  1.28e-02    3.54e-04\n",
      "her         1.15e-02    9.96e-04\n",
      "professor   9.71e-03    5.79e-04\n",
      "\n",
      "==========================================================\n",
      "Cluster 22: Largest mean parameters in cluster \n",
      "\n",
      "Word        Mean        Variance    \n",
      "she         1.49e-02    2.11e-03\n",
      "he          1.36e-02    1.02e-04\n",
      "season      1.01e-02    6.70e-04\n",
      "university  9.98e-03    3.17e-04\n",
      "soccer      9.82e-03    3.64e-03\n",
      "\n",
      "==========================================================\n",
      "Cluster 23: Largest mean parameters in cluster \n",
      "\n",
      "Word        Mean        Variance    \n",
      "she         4.04e-02    6.30e-03\n",
      "her         2.91e-02    3.02e-03\n",
      "album       1.80e-02    3.21e-03\n",
      "film        1.45e-02    1.62e-03\n",
      "music       1.44e-02    1.12e-03\n",
      "\n",
      "==========================================================\n",
      "Cluster 24: Largest mean parameters in cluster \n",
      "\n",
      "Word        Mean        Variance    \n",
      "she         1.81e-02    2.71e-03\n",
      "season      1.60e-02    1.19e-03\n",
      "football    1.48e-02    2.43e-03\n",
      "played      1.37e-02    6.60e-04\n",
      "league      1.30e-02    9.25e-04\n",
      "\n",
      "==========================================================\n"
     ]
    }
   ],
   "source": [
    "# YOUR CODE HERE. Use visualize_EM_clusters, which will require you to pass in tf_idf and map_index_to_word.\n",
    "visualize_EM_clusters(tf_idf, out_random_init['means'], out_random_init['covs'], map_index_to_word)"
   ]
  },
  {
   "cell_type": "markdown",
   "metadata": {
    "collapsed": true
   },
   "source": [
    "## Takeaway\n",
    "\n",
    "In this assignment we were able to apply the EM algorithm to a mixture of Gaussians model of text data. This was made possible by modifying the model to assume a diagonal covariance for each cluster, and by modifying the implementation to use a sparse matrix representation. In the second part you explored the role of k-means initialization on the convergence of the model as well as the interpretability of the clusters."
   ]
  }
 ],
 "metadata": {
  "kernelspec": {
   "display_name": "Python 2",
   "language": "python",
   "name": "python2"
  },
  "language_info": {
   "codemirror_mode": {
    "name": "ipython",
    "version": 2
   },
   "file_extension": ".py",
   "mimetype": "text/x-python",
   "name": "python",
   "nbconvert_exporter": "python",
   "pygments_lexer": "ipython2",
   "version": "2.7.10"
  }
 },
 "nbformat": 4,
 "nbformat_minor": 0
}
